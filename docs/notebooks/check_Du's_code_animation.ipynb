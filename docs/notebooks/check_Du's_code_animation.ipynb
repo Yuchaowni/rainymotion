{
 "cells": [
  {
   "cell_type": "markdown",
   "metadata": {},
   "source": [
    "## note on 2020.1.30\n",
    "1. Du's operational only has motion vection, no advection function\n",
    "2. RainyMotion is 3 times faster than Du's code\n",
    "3. Du's motion vector is relatively slow, may fail in typhoon season"
   ]
  },
  {
   "cell_type": "code",
   "execution_count": 67,
   "metadata": {},
   "outputs": [
    {
     "name": "stdout",
     "output_type": "stream",
     "text": [
      "/Users/jiang/github_all/rainymotion/docs/notebooks\n"
     ]
    }
   ],
   "source": [
    "import glob\n",
    "import numpy as np\n",
    "import matplotlib.pyplot as plt\n",
    "%matplotlib inline\n",
    "import os\n",
    "print(os.getcwd())\n",
    "import wradlib.ipol as ipol\n",
    "from collections import OrderedDict\n",
    "from datetime import datetime,timedelta\n",
    "from rainymotion import models, metrics, utils\n",
    "import joblib\n",
    "import pandas as pd\n",
    "data_folder = \"/Users/jiang/data/jma_radar\"\n",
    "daily_folder = \"/Users/jiang/data/jma_radar/2019_daily_unit8\"\n",
    "#daily_folder = \"/Users/jiang/data/jma_radar\""
   ]
  },
  {
   "cell_type": "markdown",
   "metadata": {},
   "source": [
    "## check a specific datetime\n",
    "- only threat score"
   ]
  },
  {
   "cell_type": "code",
   "execution_count": 68,
   "metadata": {},
   "outputs": [],
   "source": [
    "time_step = 5 * 60 # seconds\n",
    "threshold = 0.1  # mm/h\n",
    "dt = datetime(2019, 9, 8, 15, 20)\n",
    "dt_now = dt + timedelta(seconds = time_step)\n",
    "dt_12  = dt + timedelta(seconds = time_step * 13)\n",
    "yday_str = dt.strftime('%Y_%m_%d')\n",
    "yday_now = dt_now.strftime('%Y_%m_%d')\n",
    "yday_12  = dt_12.strftime('%Y_%m_%d')\n",
    "\n",
    "daily_database = {}\n",
    "inputs = np.zeros(shape = (2,1000,1000), dtype = np.float16)\n",
    "if yday_str not in daily_database:\n",
    "    daily_database[yday_str] = joblib.load(os.path.join(daily_folder, \n",
    "                                                        f\"jma_radar_uint8_{yday_str}.joblib\")) \n",
    "if yday_12 not in daily_database:\n",
    "    daily_database[yday_12]  = joblib.load(os.path.join(daily_folder,\n",
    "                                                        f\"jma_radar_uint8_{yday_12}.joblib\")) \n",
    "\n",
    "sequence_in_day = int(dt.hour*12 + (dt.minute)/5)    \n",
    "inputs[0,:,:] = daily_database[yday_str][sequence_in_day]/10.0\n",
    "inputs[1,:,:] = daily_database[yday_now][(sequence_in_day + 1)%288]/10.0\n",
    "up_lmt = np.max(inputs)\n",
    "im0 = inputs[0,:,:].astype(np.float32) / up_lmt * 255\n",
    "im1 = inputs[1,:,:].astype(np.float32) / up_lmt * 255"
   ]
  },
  {
   "cell_type": "code",
   "execution_count": 69,
   "metadata": {},
   "outputs": [],
   "source": [
    "import json\n",
    "with open(\"./config/prec/running.json\", 'r') as f:\n",
    "    param = json.load(f)\n",
    "\n",
    "param['io']['raw_size'] = tuple(param['io']['raw_size'])\n",
    "param['io']['downsample_size'] = tuple(param['io']['downsample_size'])\n",
    "if param['img_fig']['figsize'] is not None:\n",
    "    param['img_fiwg']['figsize'] = tuple(param['img_fig']['figsize'])\n",
    "if param['vector_fig']['figsize'] is not None:\n",
    "    param['vector_fig']['figsize'] = tuple(param['vector_fig']['figsize'])\n",
    "param['hs']['smooth']['threshold'] = np.quantile(im0[im0 > 1e-3], .2)"
   ]
  },
  {
   "cell_type": "code",
   "execution_count": 70,
   "metadata": {},
   "outputs": [
    {
     "name": "stdout",
     "output_type": "stream",
     "text": [
      "CPU times: user 54 s, sys: 1.28 s, total: 55.3 s\n",
      "Wall time: 17.6 s\n"
     ]
    }
   ],
   "source": [
    "%%time\n",
    "from src import of as optical_flow\n",
    "of = getattr(optical_flow, 'PyramidHornSchunck')(**param['hs']['basic'])\n",
    "of(im1, im0)\n",
    "\n",
    "for m in param['hs']['smooth']['methods']:\n",
    "    of.smooth_vel(mode=m, **param['hs']['smooth'])\n",
    "u, v = of.u.copy(), of.v.copy()\n",
    "u *= param['hs']['basic']['dx']\n",
    "v *= param['hs']['basic']['dy']\n",
    "\n",
    "lead_steps = 13\n",
    "coord_source_i, coord_source_j = np.meshgrid(range(u.shape[1]),range(u.shape[0]))\n",
    "coord_targets = []\n",
    "for lead_step in range(lead_steps):\n",
    "    coord_target_i = coord_source_i + u * (lead_step )\n",
    "    coord_target_j = coord_source_j + v * (lead_step )\n",
    "    coord_targets.append([coord_target_i, coord_target_j])\n",
    "coord_source = [coord_source_i, coord_source_j]\n",
    "nowcasts = []\n",
    "# interpolation\n",
    "for lead_step in range(lead_steps):\n",
    "    nowcasts.append(models._interpolator(inputs[1,:,:], coord_source, coord_targets[lead_step], method = \"idw\"))\n",
    "# reshaping\n",
    "nowcasts = np.moveaxis(np.dstack(nowcasts), -1, 0)\n",
    "du = nowcasts"
   ]
  },
  {
   "cell_type": "code",
   "execution_count": 71,
   "metadata": {},
   "outputs": [],
   "source": [
    "if False:\n",
    "    plt.figure(dpi=150)\n",
    "    plt.imshow(im1, cmap='jet',vmin=1, vmax= 50, origin = \"lower\")\n",
    "    plt.colorbar(label=\"radar intensity\")\n",
    "    X,Y = range(1000),range(1000)\n",
    "    skip = 30  # orginal 10\n",
    "    plt.quiver(X[::skip], Y[::skip], u[::skip,::skip], v[::skip,::skip],\n",
    "               scale = 30,color='red',headwidth = 5)\n",
    "    plt.title(\"motion field overlaps radar image\")\n",
    "    plt.show()"
   ]
  },
  {
   "cell_type": "code",
   "execution_count": 72,
   "metadata": {},
   "outputs": [
    {
     "name": "stdout",
     "output_type": "stream",
     "text": [
      "CPU times: user 35.3 s, sys: 425 ms, total: 35.7 s\n",
      "Wall time: 5.57 s\n"
     ]
    }
   ],
   "source": [
    "%%time\n",
    "model = models.Dense()    \n",
    "model.input_data = inputs\n",
    "model.lead_steps = 13\n",
    "nowcast = model.run()  # shape (13, 1000, 1000)"
   ]
  },
  {
   "cell_type": "code",
   "execution_count": 73,
   "metadata": {
    "scrolled": true
   },
   "outputs": [
    {
     "data": {
      "image/png": "[encoded data removed]",
      "text/plain": [
       "<Figure size 432x288 with 1 Axes>"
      ]
     },
     "metadata": {
      "needs_background": "light"
     },
     "output_type": "display_data"
    }
   ],
   "source": [
    "threat_rm = []  # threat score\n",
    "threat_du = []\n",
    "threat_per = []\n",
    "\n",
    "dt_predit = dt_now \n",
    "yday_pre = dt_predit.strftime('%Y_%m_%d')\n",
    "sequence = int(dt_predit.hour*12 + (dt_predit.minute)/5)   \n",
    "ground_truth0 =  daily_database[yday_pre][sequence]/10.0\n",
    "\n",
    "lead_time = list(range(0,65,5))\n",
    "for i in range (13):\n",
    "    dt_predit = dt_now + timedelta(seconds = time_step * i)\n",
    "    yday_pre = dt_predit.strftime('%Y_%m_%d')\n",
    "    sequence = int(dt_predit.hour*12 + (dt_predit.minute)/5)   \n",
    "    ground_truth =  daily_database[yday_pre][sequence]/10.0\n",
    "    threat_rm.append(metrics.CSI(ground_truth,nowcast[i], threshold = threshold))\n",
    "    threat_du.append(metrics.CSI(ground_truth,du[i], threshold = threshold))\n",
    "    threat_per.append(metrics.CSI(ground_truth,ground_truth0, threshold = threshold))\n",
    "plt.plot(lead_time, threat_rm,'o-',label = \"rainy-motion\")\n",
    "plt.plot(lead_time, threat_du,'s-',label = \"du's code\")\n",
    "plt.plot(lead_time, threat_per,'*-',label = \"persistence\")\n",
    "plt.title(f\"rainy pixels = {np.sum(ground_truth0 >= threshold)/(1e6 - 132396) *100 :.1f} %, now = {dt_now}\")\n",
    "plt.xlabel(\"minutes after now\")\n",
    "plt.legend()\n",
    "plt.grid()\n",
    "plt.show()"
   ]
  },
  {
   "cell_type": "markdown",
   "metadata": {},
   "source": [
    "## make time sequence images and add score"
   ]
  },
  {
   "cell_type": "code",
   "execution_count": 11,
   "metadata": {},
   "outputs": [],
   "source": [
    "hh = str(dt_now.hour).zfill(2) \n",
    "mm = str(dt_now.minute).zfill(2)\n",
    "for i in range (13):\n",
    "    dt_predit = dt_now + timedelta(seconds = time_step * i)\n",
    "    yday_pre = dt_predit.strftime('%Y_%m_%d')\n",
    "    sequence = int(dt_predit.hour*12 + (dt_predit.minute)/5)   \n",
    "    ground_truth =  daily_database[yday_pre][sequence]/10.0\n",
    "    hits, misses, falsealarms, _ = metrics.prep_clf(ground_truth, du[i], threshold = threshold)\n",
    "\n",
    "    threat =  hits / (hits + misses + falsealarms)\n",
    "    recall =  hits / (hits + misses)\n",
    "    precision = hits / (hits + falsealarms)\n",
    "    \n",
    "    plt.figure(dpi = 100)\n",
    "    \n",
    "    image1 = ground_truth\n",
    "    image2 = du[i]\n",
    "    plt.imshow(np.log(image1 + 0.01),cmap = 'Reds',origin = \"lower\")\n",
    "    plt.imshow(np.log(image2 + 0.01).astype('float32'),cmap = 'Blues',origin = \"lower\",alpha = 0.5)\n",
    "    plt.title(f\"now = {yday_now}-{hh}:{mm} UTC,+{str(i*5).zfill(2)}min\")\n",
    "    plt.text(20, 950, f\"rainy pixels = {np.sum(image1 >= threshold)/(1e6 - 132396) *100 :.1f} %\")\n",
    "    plt.text(20, 900, f\"threshold = {threshold} mm/h\")\n",
    "    plt.text(20, 850, f\"threat = {threat:.2f}\")\n",
    "    plt.text(20, 800, f\"recall = {recall:.2f}\")\n",
    "    plt.text(20, 750, f\"precision = {precision:.2f}\")\n",
    "    plt.text(20, 700, \"Truth(Reds)\",color = \"red\")\n",
    "    plt.text(20, 650, \"Forecast(Blues)\",color = \"blue\")\n",
    "    plt.grid()\n",
    "    plt.tight_layout(h_pad=0.5)\n",
    "    plt.savefig(\"JMA_rainymotion_image_score\" + str(i).zfill(2) + \".png\",format = \"png\",bbox_inches='tight')\n",
    "    plt.close()"
   ]
  },
  {
   "cell_type": "code",
   "execution_count": null,
   "metadata": {},
   "outputs": [],
   "source": [
    "import imageio\n",
    "png_files = glob.glob(\"./JMA_rainymotion_image_score*.png\")\n",
    "png_files.sort()\n",
    "print(len(png_files)) # 288\n",
    "\n",
    "images = []\n",
    "for filename in png_files:\n",
    "    images.append(imageio.imread(filename))\n",
    "    os.system(f\"rm -r {filename}\")\n",
    "#output_file = f'JMA_rainymotion_image_score-{yday_now}.gif'\n",
    "output_file = f'JMA_du_image_score-{yday_now}.gif'\n",
    "imageio.mimsave(output_file, images,duration = 1)  # unit is in seconds"
   ]
  },
  {
   "cell_type": "markdown",
   "metadata": {},
   "source": [
    "### generate rainymotion result to compare"
   ]
  },
  {
   "cell_type": "code",
   "execution_count": 13,
   "metadata": {},
   "outputs": [],
   "source": [
    "time_step = 5 * 60 # seconds\n",
    "threshold = 0.1  # mm/h\n",
    "#dt = datetime(2020, 1, 27 , 0, 0)\n",
    "dt_now = dt + timedelta(seconds = time_step)\n",
    "dt_12  = dt + timedelta(seconds = time_step * 13)\n",
    "yday_str = dt.strftime('%Y_%m_%d')\n",
    "yday_now = dt_now.strftime('%Y_%m_%d')\n",
    "yday_12  = dt_12.strftime('%Y_%m_%d')\n",
    "hh = str(dt_now.hour).zfill(2) \n",
    "mm = str(dt_now.minute).zfill(2)\n",
    "\n",
    "daily_database = {}\n",
    "inputs = np.zeros(shape = (2,1000,1000), dtype = np.float16)\n",
    "if yday_str not in daily_database:\n",
    "    daily_database[yday_str] = joblib.load(os.path.join(daily_folder, \n",
    "                                                        f\"jma_radar_uint8_{yday_str}.joblib\")) \n",
    "if yday_12 not in daily_database:\n",
    "    daily_database[yday_12]  = joblib.load(os.path.join(daily_folder,\n",
    "                                                        f\"jma_radar_uint8_{yday_12}.joblib\")) \n",
    "\n",
    "sequence_in_day = int(dt.hour*12 + (dt.minute)/5)    \n",
    "inputs[0,:,:] = daily_database[yday_str][sequence_in_day]/10.0\n",
    "inputs[1,:,:] = daily_database[yday_now][(sequence_in_day+1)%288]/10.0\n",
    "    \n",
    "model = models.Dense()    \n",
    "model.input_data = inputs\n",
    "model.lead_steps = 13\n",
    "nowcast = model.run()  # shape (13, 1000, 1000)\n",
    "\n",
    "for i in range (13):\n",
    "    dt_predit = dt_now + timedelta(seconds = time_step * i)\n",
    "    yday_pre = dt_predit.strftime('%Y_%m_%d')\n",
    "    sequence = int(dt_predit.hour*12 + (dt_predit.minute)/5)   \n",
    "    ground_truth =  daily_database[yday_pre][sequence]/10.0\n",
    "    hits, misses, falsealarms, _ = metrics.prep_clf(ground_truth,nowcast[i], threshold = threshold)\n",
    "    #dense_13_th.append(metrics.CSI(ground_truth,nowcast[i], threshold = threshold))\n",
    "    threat =  hits / (hits + misses + falsealarms)\n",
    "    recall =  hits / (hits + misses)\n",
    "    precision = hits / (hits + falsealarms)\n",
    "    \n",
    "    plt.figure(dpi = 100)\n",
    "    \n",
    "    image1 = ground_truth\n",
    "    image2 = nowcast[i]\n",
    "    plt.imshow(np.log(image1 + 0.01),cmap = 'Reds',origin = \"lower\")\n",
    "    plt.imshow(np.log(image2 + 0.01).astype('float32'),cmap = 'Blues',origin = \"lower\",alpha = 0.5)\n",
    "    plt.title(f\"now = {yday_now}-{hh}:{mm} UTC,+{str(i*5).zfill(2)}min\")\n",
    "    plt.text(20, 950, f\"rainy pixels = {np.sum(image1 >= threshold)/(1e6 - 132396) *100 :.1f} %\")\n",
    "    plt.text(20, 900, f\"threshold = {threshold} mm/h\")\n",
    "    plt.text(20, 850, f\"threat = {threat:.2f}\")\n",
    "    plt.text(20, 800, f\"recall = {recall:.2f}\")\n",
    "    plt.text(20, 750, f\"precision = {precision:.2f}\")\n",
    "    plt.text(20, 700, \"Truth(Reds)\",color = \"red\")\n",
    "    plt.text(20, 650, \"Forecast(Blues)\",color = \"blue\")\n",
    "    plt.grid()\n",
    "    plt.tight_layout(h_pad=0.5)\n",
    "    plt.savefig(\"JMA_rainymotion_image_score\" + str(i).zfill(2) + \".png\",format = \"png\",bbox_inches='tight')\n",
    "    plt.close()"
   ]
  },
  {
   "cell_type": "markdown",
   "metadata": {},
   "source": [
    "## make gif animiation and delete png images"
   ]
  },
  {
   "cell_type": "code",
   "execution_count": 14,
   "metadata": {},
   "outputs": [
    {
     "name": "stdout",
     "output_type": "stream",
     "text": [
      "13\n"
     ]
    }
   ],
   "source": [
    "import imageio\n",
    "png_files = glob.glob(\"./JMA_rainymotion_image_score*.png\")\n",
    "png_files.sort()\n",
    "print(len(png_files)) # 288\n",
    "\n",
    "images = []\n",
    "for filename in png_files:\n",
    "    images.append(imageio.imread(filename))\n",
    "    os.system(f\"rm -r {filename}\")\n",
    "output_file = f'JMA_rainymotion_image_score-{yday_now}.gif'\n",
    "#output_file = f'JMA_du_image_score-{yday_now}.gif'\n",
    "imageio.mimsave(output_file, images,duration = 1)  # unit is in seconds"
   ]
  },
  {
   "cell_type": "markdown",
   "metadata": {},
   "source": [
    "## du vs rainymotion in frame-to-frame comparison"
   ]
  },
  {
   "cell_type": "code",
   "execution_count": 70,
   "metadata": {},
   "outputs": [],
   "source": [
    "hh = str(dt_now.hour).zfill(2) \n",
    "mm = str(dt_now.minute).zfill(2)\n",
    "for i in range (13):   \n",
    "    plt.figure(dpi = 100)\n",
    "    image1 = nowcast[i].astype('float32')\n",
    "    image2 = du[i]\n",
    "    plt.imshow(np.log(image1 + 0.01),cmap = 'Reds',origin = \"lower\")\n",
    "    plt.imshow(np.log(image2 + 0.01).astype('float32'),cmap = 'Blues',origin = \"lower\",alpha = 0.5)\n",
    "    plt.title(f\"now = {yday_now}-{hh}:{mm} UTC,+{str(i*5).zfill(2)}min\")\n",
    "\n",
    "    plt.text(20, 700, \"rainymotion (Reds)\",color = \"red\")\n",
    "    plt.text(20, 650, \"du's code + advection(Blues)\",color = \"blue\")\n",
    "    plt.grid()\n",
    "    plt.tight_layout(h_pad=0.5)\n",
    "    plt.savefig(\"JMA_rainymotion_image_score\" + str(i).zfill(2) + \".png\",format = \"png\",bbox_inches='tight')\n",
    "    plt.close()"
   ]
  },
  {
   "cell_type": "code",
   "execution_count": 71,
   "metadata": {},
   "outputs": [
    {
     "name": "stdout",
     "output_type": "stream",
     "text": [
      "13\n"
     ]
    }
   ],
   "source": [
    "import imageio\n",
    "png_files = glob.glob(\"./JMA_rainymotion_image_score*.png\")\n",
    "png_files.sort()\n",
    "print(len(png_files)) # 288\n",
    "\n",
    "images = []\n",
    "for filename in png_files:\n",
    "    images.append(imageio.imread(filename))\n",
    "    os.system(f\"rm -r {filename}\")\n",
    "# output_file = f'JMA_rainymotion_image_score-{yday_now}.gif'\n",
    "# output_file = f'JMA_du_image_score-{yday_now}.gif'\n",
    "output_file = f'JMA_rainymotion_vs_du-{yday_now}.gif'\n",
    "\n",
    "imageio.mimsave(output_file, images,duration = 1)  # unit is in seconds"
   ]
  },
  {
   "cell_type": "code",
   "execution_count": null,
   "metadata": {},
   "outputs": [],
   "source": []
  }
 ],
 "metadata": {
  "kernelspec": {
   "display_name": "Python 3",
   "language": "python",
   "name": "python3"
  },
  "language_info": {
   "codemirror_mode": {
    "name": "ipython",
    "version": 3
   },
   "file_extension": ".py",
   "mimetype": "text/x-python",
   "name": "python",
   "nbconvert_exporter": "python",
   "pygments_lexer": "ipython3",
   "version": "3.7.6"
  }
 },
 "nbformat": 4,
 "nbformat_minor": 2
}
