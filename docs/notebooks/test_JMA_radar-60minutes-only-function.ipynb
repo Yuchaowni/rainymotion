{
 "cells": [
  {
   "cell_type": "markdown",
   "metadata": {},
   "source": [
    "notes on 2020.1.8:\n",
    "1. in the current Kakuho system, the threat score has reached 50% at one hour lead time"
   ]
  },
  {
   "cell_type": "code",
   "execution_count": 1,
   "metadata": {},
   "outputs": [
    {
     "name": "stdout",
     "output_type": "stream",
     "text": [
      "/Users/jiang/github_all/rainymotion/docs/notebooks\n"
     ]
    }
   ],
   "source": [
    "import glob\n",
    "import numpy as np\n",
    "import matplotlib.pyplot as plt\n",
    "%matplotlib inline\n",
    "import os\n",
    "print(os.getcwd())"
   ]
  },
  {
   "cell_type": "code",
   "execution_count": 2,
   "metadata": {},
   "outputs": [],
   "source": [
    "from rainymotion import models, metrics, utils\n",
    "from collections import OrderedDict\n",
    "import numpy as np\n",
    "import h5py\n",
    "import matplotlib.pyplot as plt\n",
    "import wradlib.ipol as ipol\n",
    "%matplotlib inline\n",
    "from netCDF4 import Dataset"
   ]
  },
  {
   "cell_type": "code",
   "execution_count": 4,
   "metadata": {},
   "outputs": [],
   "source": [
    "class Dense60:\n",
    "    def __init__(self):\n",
    "        self.input_data = None\n",
    "        self.scaler = RYScaler\n",
    "        self.lead_steps = 12\n",
    "        self.of_method = \"DIS\"\n",
    "        self.direction = \"backward\"\n",
    "        self.interpolation = \"idw\"\n",
    "    def run(self):\n",
    "        scaled_data, c1, c2 = self.scaler(self.input_data)\n",
    "        of = _calculate_of(scaled_data, method=self.of_method, direction=self.direction)\n",
    "        # from _advection_constant_vector\n",
    "        delta_x = of[::, ::, 0]\n",
    "        delta_y = of[::, ::, 1]\n",
    "        # make a source meshgrid\n",
    "        coord_source_i, coord_source_j = np.meshgrid(range(of.shape[1]),range(of.shape[0]))\n",
    "        coord_source = [coord_source_i, coord_source_j]\n",
    "        # calculate new coordinates of radar pixels\n",
    "        coord_target_i = coord_source_i + delta_x * (self.lead_step )\n",
    "        coord_target_j = coord_source_j + delta_y * (self.lead_step )\n",
    "        coord_targets =[coord_target_i, coord_target_j]\n",
    "        # nowcasts placeholder\n",
    "        nowcasts = _interpolator(self.input_data[-1], coord_source,coord_targets,\n",
    "                                 method=self.interpolation)\n",
    "        return nowcasts"
   ]
  },
  {
   "cell_type": "markdown",
   "metadata": {},
   "source": [
    "### how to extract data for testing?\n",
    "1. loop through count range(tot-12), if larger10_continue, use count to get dt, then joblib file, then int(dt.hour*12 + (dt.minute)/5)  to get the specific (1000,1000) 2D array,\n",
    "2. then test = count + 12, repeat same procedure to get another 2D array for test\n",
    "3. calcuate the predictioon using optical flow, calcuate threat and append to array, array shape pre-defined by the number of True larger10_continue"
   ]
  },
  {
   "cell_type": "code",
   "execution_count": 9,
   "metadata": {},
   "outputs": [],
   "source": [
    "import joblib\n",
    "data_folder = \"/Users/jiang/data/jma_radar\"\n",
    "pick_file  = f\"rain_continue_collection.joblib\"\n",
    "pick_path = os.path.join(data_folder, pick_file)\n",
    "larger10_first, larger20_first, larger10_continue,larger20_continue = joblib.load(pick_path)"
   ]
  },
  {
   "cell_type": "code",
   "execution_count": null,
   "metadata": {},
   "outputs": [],
   "source": [
    "%%time\n",
    "tot = 365*288 # 105120\n",
    "time_step = 5 * 60 # seconds\n",
    "threshold = 1  # mm/h\n",
    "dense_th = []  # threat score\n",
    "# initialize\n",
    "yday = 0\n",
    "dt0  = datetime(2019,1,1,0,0)\n",
    "\n",
    "for i in range(1,tot-12):  # every hour \n",
    "    if larger10_continue[i]:\n",
    "        dt = dt0 + timedelta(seconds = time_step*i)\n",
    "        if dt.timetuple().tm_yday != yday:\n",
    "            yday = dt.timetuple().tm_yday\n",
    "            data_file  = f\"jma_radar_uint8_{dt.strftime('%Y_%m_%d')}.joblib\"\n",
    "            full_path = os.path.join(data_folder, data_file)\n",
    "            data = joblib.load(full_path)\n",
    "        \n",
    "        sequence_in_day = int(dt.hour*12 + (dt.minute)/5) \n",
    "        inputs = np.array([all_data[now-1],all_data[now]])\n",
    "    \n",
    "    # Dense mode\n",
    "    model = models.Dense()\n",
    "    model.input_data = inputs\n",
    "    model.lead_steps = 13\n",
    "    nowcast = model.run()  # shape (12, 900, 900)\n",
    "    #for i in range (13):\n",
    "    if True:\n",
    "        i = 12\n",
    "        hits, misses, falsealarms, correctnegatives = metrics.prep_clf(all_data[now + i],nowcast[i], threshold = threshold)\n",
    "        dense_th.append( hits / (hits + misses + falsealarms))\n"
   ]
  },
  {
   "cell_type": "code",
   "execution_count": null,
   "metadata": {},
   "outputs": [],
   "source": []
  }
 ],
 "metadata": {
  "kernelspec": {
   "display_name": "Python [conda env:rainymotion] *",
   "language": "python",
   "name": "conda-env-rainymotion-py"
  },
  "language_info": {
   "codemirror_mode": {
    "name": "ipython",
    "version": 3
   },
   "file_extension": ".py",
   "mimetype": "text/x-python",
   "name": "python",
   "nbconvert_exporter": "python",
   "pygments_lexer": "ipython3",
   "version": "3.8.0"
  }
 },
 "nbformat": 4,
 "nbformat_minor": 2
}
