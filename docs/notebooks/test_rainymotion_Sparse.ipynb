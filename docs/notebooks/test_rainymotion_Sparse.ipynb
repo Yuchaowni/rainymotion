{
 "cells": [
  {
   "cell_type": "code",
   "execution_count": 1,
   "metadata": {},
   "outputs": [],
   "source": [
    "from rainymotion import models, metrics, utils\n",
    "from collections import OrderedDict\n",
    "import numpy as np\n",
    "import h5py\n",
    "import matplotlib.pyplot as plt\n",
    "%matplotlib inline"
   ]
  },
  {
   "cell_type": "code",
   "execution_count": 2,
   "metadata": {},
   "outputs": [],
   "source": [
    "data = h5py.File(\"../../data/data.h5\", mode=\"r\")  # \"data.h5\" (mode r)\n",
    "# dictionary structure: {\"t\": [ [t-24, t-23,..., t-1], [t+1,...,t+12] ]}\n",
    "eval_idx = np.load(\"../../data/eval_dict.npy\",allow_pickle=True).item()"
   ]
  },
  {
   "cell_type": "code",
   "execution_count": 3,
   "metadata": {},
   "outputs": [],
   "source": [
    "eval_instance = eval_idx\n",
    "data_instance = data\n",
    "model = models.Sparse()\n",
    "\n",
    "if True:\n",
    "    key = sorted(list(eval_instance.keys()))[0]    \n",
    "#for key in sorted(list(eval_instance.keys())):\n",
    "    inputs = np.array([ data_instance[key][:] for key in eval_instance[key][0] ])\n",
    "    model.input_data = inputs\n",
    "    nowcast = model.run()  # shape (12, 900, 900)"
   ]
  },
  {
   "cell_type": "code",
   "execution_count": 4,
   "metadata": {},
   "outputs": [],
   "source": [
    "self = model"
   ]
  },
  {
   "cell_type": "code",
   "execution_count": 5,
   "metadata": {},
   "outputs": [],
   "source": [
    "import skimage.transform as sktf\n",
    "from rainymotion.models import _sparse_linear,_sparse_sd\n",
    "transformations = {'euclidean': sktf.EuclideanTransform(),\n",
    "                   'similarity': sktf.SimilarityTransform(),\n",
    "                   'affine': sktf.AffineTransform(),\n",
    "                   'projective': sktf.ProjectiveTransform()}\n",
    "\n",
    "# scale input data to uint8 [0-255] with self.scaler\n",
    "data_scaled, c1, c2 = self.scaler(self.input_data) # shape (24, 900, 900)\n",
    "\n",
    "# set up transformer object\n",
    "trf = transformations[self.warper]  # 3x3 transform matrix\n",
    "\n",
    "# obtain source and target points\n",
    "if self.extrapolation == \"linear\":\n",
    "    pts_source, pts_target_container = _sparse_linear(data_instance=data_scaled,\n",
    "                                                      of_params=self.of_params,\n",
    "                                                      lead_steps=self.lead_steps)\n",
    "elif self.extrapolation == \"simple_delta\":\n",
    "    pts_source, pts_target_container = _sparse_sd(data_instance=data_scaled,\n",
    "               of_params=self.of_params, lead_steps=self.lead_steps) # (128,2),12 elements of (128,2) \n",
    "\n",
    "# container for our nowcasts\n",
    "last_frame = data_scaled[-1]\n",
    "nowcst_frames = []\n",
    "\n",
    "for lead_step, pts_target in enumerate(pts_target_container):\n",
    "\n",
    "    # estimate transformation matrix\n",
    "    # based on source and traget points\n",
    "    trf.estimate(pts_source, pts_target)\n",
    "\n",
    "    # make a nowcast\n",
    "    nowcst_frame = sktf.warp(last_frame/255, trf.inverse)\n",
    "    # transformations dealing with strange behaviour\n",
    "    nowcst_frame = (nowcst_frame*255).astype('uint8')\n",
    "    # add to the container\n",
    "    nowcst_frames.append(nowcst_frame)\n",
    "\n",
    "nowcst_frames = np.stack(nowcst_frames, axis=0)\n",
    "\n",
    "nowcst_frames = self.inverse_scaler(nowcst_frames, c1, c2)"
   ]
  },
  {
   "cell_type": "code",
   "execution_count": 16,
   "metadata": {},
   "outputs": [
    {
     "data": {
      "image/png": "[encoded data removed]",
      "text/plain": [
       "<Figure size 600x400 with 1 Axes>"
      ]
     },
     "metadata": {
      "needs_background": "light"
     },
     "output_type": "display_data"
    }
   ],
   "source": [
    "plt.figure(dpi = 100)\n",
    "plt.imshow(data_instance[\"201605291205\"][:].astype('float32'), cmap='gray_r')\n",
    "plt.show()"
   ]
  },
  {
   "cell_type": "markdown",
   "metadata": {},
   "source": [
    "### _sparse_linear( )"
   ]
  },
  {
   "cell_type": "code",
   "execution_count": 18,
   "metadata": {},
   "outputs": [],
   "source": [
    "import cv2\n",
    "data_instance = data_scaled  # (24, 900, 900)\n",
    "of_params={'st_pars': dict(maxCorners = 200,qualityLevel = 0.2,minDistance = 7,blockSize = 21),\n",
    "            'lk_pars': dict(winSize = (20, 20),maxLevel = 2,\n",
    "                            criteria = (cv2.TERM_CRITERIA_EPS | cv2.TERM_CRITERIA_COUNT, 10, 0))}"
   ]
  },
  {
   "cell_type": "code",
   "execution_count": 24,
   "metadata": {},
   "outputs": [],
   "source": [
    "from sklearn.linear_model import LinearRegression\n",
    "from sklearn.preprocessing import PolynomialFeatures\n",
    "\n",
    "extrapol_params={\"model\": LinearRegression(),\"features\": \"ordinal\"}\n",
    "\n",
    "old_corners = cv2.goodFeaturesToTrack(data_instance[0], mask=None,**of_params['st_pars'])\n",
    "\n",
    "# Set containers to collect results (time steps in rows, detected corners\n",
    "# in columns)\n",
    "\n",
    "#   corner x coords\n",
    "x = np.full((data_instance.shape[0], len(old_corners)), np.nan)  # shape (24,200)\n",
    "#   corner y coords\n",
    "y = np.full((data_instance.shape[0], len(old_corners)), np.nan)\n",
    "#   Assign persistent corner IDs\n",
    "ids = np.arange(len(old_corners))  # [0,199]\n",
    "\n",
    "# fill in first values\n",
    "x[0, :] = old_corners[:, 0, 0]\n",
    "y[0, :] = old_corners[:, 0, 1]\n",
    "\n",
    "# track corners for each time frame by optical flow algorithm\n",
    "for i in range(1, data_instance.shape[0]):\n",
    "    new_corners, st, err = cv2.calcOpticalFlowPyrLK(prevImg = data_instance[i-1],\n",
    "                                                    nextImg = data_instance[i],\n",
    "                                                    prevPts = old_corners,\n",
    "                                                    nextPts = None,\n",
    "                                                    **of_params['lk_pars'])\n",
    "\n",
    "    # select only good attempts for corner tracking\n",
    "    success = st.ravel() == 1\n",
    "    # use only sucessfull ids for filling\n",
    "    ids = ids[success]\n",
    "    # fill in results\n",
    "    x[i, ids] = new_corners[success, 0, 0]\n",
    "    y[i, ids] = new_corners[success, 0, 1]\n",
    "    # new corners will be old in the next loop\n",
    "    old_corners = new_corners[success]\n",
    "\n",
    "# consider only full paths\n",
    "full_paths_without_nan = [np.sum(np.isnan(x[:, i])) == 0 for i in range(x.shape[1])]\n",
    "x = x[:, full_paths_without_nan].copy()  # shape(24,187)\n",
    "y = y[:, full_paths_without_nan].copy()\n",
    "\n",
    "# containers for corners predictions\n",
    "x_new = np.full((lead_steps, x.shape[1]), np.nan)  # (12, 187)\n",
    "y_new = np.full((lead_steps, y.shape[1]), np.nan)\n",
    "\n",
    "for i in range(x.shape[1]):\n",
    "    x_train = x[:, i]\n",
    "    y_train = y[:, i]\n",
    "    X = np.arange(x.shape[0] + lead_steps)  # [0,1,2, ..., 35]\n",
    "\n",
    "    if extrapol_params[\"features\"] == \"polynomial\":\n",
    "        polyfeatures = PolynomialFeatures(2)\n",
    "        X = polyfeatures.fit_transform(X.reshape(-1, 1))\n",
    "        X_train = X[:x.shape[0], :]\n",
    "        X_pred = X[x.shape[0]:, :]\n",
    "    else:\n",
    "        X = X.reshape(-1, 1)   # (36,1)\n",
    "        X_train = X[:x.shape[0], :]\n",
    "        X_pred = X[x.shape[0]:, :]\n",
    "\n",
    "    x_pred = extrapol_params[\"model\"].fit(X_train, x_train).predict(X_pred)\n",
    "    y_pred = extrapol_params[\"model\"].fit(X_train, y_train).predict(X_pred)\n",
    "\n",
    "    x_new[:, i] = x_pred\n",
    "    y_new[:, i] = y_pred\n",
    "\n",
    "# define source corners in appropriate format\n",
    "pts_source = np.hstack([x[-1, :].reshape(-1, 1), y[-1, :].reshape(-1, 1)])\n",
    "\n",
    "# define container for targets in appropriate format\n",
    "pts_target_container = [np.hstack([x_new[i, :].reshape(-1, 1),\n",
    "                                   y_new[i, :].reshape(-1, 1)]) for i in range(x_new.shape[0])]"
   ]
  },
  {
   "cell_type": "code",
   "execution_count": 34,
   "metadata": {},
   "outputs": [
    {
     "data": {
      "text/plain": [
       "(12, 187)"
      ]
     },
     "execution_count": 34,
     "metadata": {},
     "output_type": "execute_result"
    }
   ],
   "source": [
    "x_new.shape"
   ]
  },
  {
   "cell_type": "code",
   "execution_count": 44,
   "metadata": {},
   "outputs": [
    {
     "data": {
      "image/png": "[encoded data removed]",
      "text/plain": [
       "<Figure size 432x288 with 1 Axes>"
      ]
     },
     "metadata": {
      "needs_background": "light"
     },
     "output_type": "display_data"
    }
   ],
   "source": [
    "plt.plot(X_train,x_train,'*')\n",
    "plt.plot(X_pred,x_pred,'o')\n",
    "plt.ylabel(\"x coordinates of targeted feature\")\n",
    "plt.xlabel(\"frame number\")\n",
    "plt.show()"
   ]
  },
  {
   "cell_type": "code",
   "execution_count": null,
   "metadata": {},
   "outputs": [],
   "source": []
  }
 ],
 "metadata": {
  "kernelspec": {
   "display_name": "Python [conda env:rainymotion] *",
   "language": "python",
   "name": "conda-env-rainymotion-py"
  },
  "language_info": {
   "codemirror_mode": {
    "name": "ipython",
    "version": 3
   },
   "file_extension": ".py",
   "mimetype": "text/x-python",
   "name": "python",
   "nbconvert_exporter": "python",
   "pygments_lexer": "ipython3",
   "version": "3.8.0"
  }
 },
 "nbformat": 4,
 "nbformat_minor": 2
}
