{
 "cells": [
  {
   "cell_type": "markdown",
   "metadata": {},
   "source": [
    "## note on 2020.1.20\n",
    "1. pick out which date have failure casese\n",
    "2. animiate the prediction and ground truth to see the reason"
   ]
  },
  {
   "cell_type": "code",
   "execution_count": 2,
   "metadata": {},
   "outputs": [
    {
     "name": "stdout",
     "output_type": "stream",
     "text": [
      "/Users/jiang/github_all/rainymotion/docs/notebooks\n"
     ]
    }
   ],
   "source": [
    "import glob\n",
    "import numpy as np\n",
    "import matplotlib.pyplot as plt\n",
    "%matplotlib inline\n",
    "import os\n",
    "print(os.getcwd())\n",
    "\n",
    "from rainymotion import models, metrics, utils\n",
    "from collections import OrderedDict\n",
    "import h5py\n",
    "import wradlib.ipol as ipol\n",
    "from datetime import datetime,timedelta\n",
    "\n",
    "import joblib\n",
    "import pandas as pd\n",
    "data_folder = \"/Users/jiang/data/jma_radar\"\n",
    "#daily_folder = \"/Users/jiang/data/jma_radar/2019_daily_unit8\"\n",
    "daily_folder = \"/Users/jiang/data/jma_radar\""
   ]
  },
  {
   "cell_type": "code",
   "execution_count": 110,
   "metadata": {},
   "outputs": [],
   "source": [
    "csv_path = os.path.join(data_folder,\"threat_coverage.csv\")\n",
    "data = pd.read_csv(csv_path)"
   ]
  },
  {
   "cell_type": "markdown",
   "metadata": {},
   "source": [
    "### failure is due to missing radar data"
   ]
  },
  {
   "cell_type": "code",
   "execution_count": 111,
   "metadata": {
    "scrolled": true
   },
   "outputs": [
    {
     "data": {
      "text/plain": [
       "166    6\n",
       "Name: yday, dtype: int64"
      ]
     },
     "execution_count": 111,
     "metadata": {},
     "output_type": "execute_result"
    }
   ],
   "source": [
    "data[data['threat'] == 0]['yday'].value_counts()"
   ]
  },
  {
   "cell_type": "code",
   "execution_count": 114,
   "metadata": {},
   "outputs": [
    {
     "data": {
      "text/html": [
       "<div>\n",
       "<style scoped>\n",
       "    .dataframe tbody tr th:only-of-type {\n",
       "        vertical-align: middle;\n",
       "    }\n",
       "\n",
       "    .dataframe tbody tr th {\n",
       "        vertical-align: top;\n",
       "    }\n",
       "\n",
       "    .dataframe thead th {\n",
       "        text-align: right;\n",
       "    }\n",
       "</style>\n",
       "<table border=\"1\" class=\"dataframe\">\n",
       "  <thead>\n",
       "    <tr style=\"text-align: right;\">\n",
       "      <th></th>\n",
       "      <th>datetime</th>\n",
       "      <th>threat</th>\n",
       "      <th>coverage</th>\n",
       "      <th>yday</th>\n",
       "    </tr>\n",
       "  </thead>\n",
       "  <tbody>\n",
       "    <tr>\n",
       "      <th>9127</th>\n",
       "      <td>2019-06-15 00:00:00</td>\n",
       "      <td>0.000000</td>\n",
       "      <td>38.406250</td>\n",
       "      <td>166</td>\n",
       "    </tr>\n",
       "    <tr>\n",
       "      <th>9128</th>\n",
       "      <td>2019-06-15 00:05:00</td>\n",
       "      <td>0.000000</td>\n",
       "      <td>38.156250</td>\n",
       "      <td>166</td>\n",
       "    </tr>\n",
       "    <tr>\n",
       "      <th>9129</th>\n",
       "      <td>2019-06-15 00:10:00</td>\n",
       "      <td>0.000000</td>\n",
       "      <td>37.968750</td>\n",
       "      <td>166</td>\n",
       "    </tr>\n",
       "    <tr>\n",
       "      <th>9130</th>\n",
       "      <td>2019-06-15 00:15:00</td>\n",
       "      <td>0.516785</td>\n",
       "      <td>37.437500</td>\n",
       "      <td>166</td>\n",
       "    </tr>\n",
       "    <tr>\n",
       "      <th>9131</th>\n",
       "      <td>2019-06-15 00:20:00</td>\n",
       "      <td>0.519472</td>\n",
       "      <td>36.875000</td>\n",
       "      <td>166</td>\n",
       "    </tr>\n",
       "    <tr>\n",
       "      <th>...</th>\n",
       "      <td>...</td>\n",
       "      <td>...</td>\n",
       "      <td>...</td>\n",
       "      <td>...</td>\n",
       "    </tr>\n",
       "    <tr>\n",
       "      <th>9406</th>\n",
       "      <td>2019-06-15 23:35:00</td>\n",
       "      <td>0.433767</td>\n",
       "      <td>12.031250</td>\n",
       "      <td>166</td>\n",
       "    </tr>\n",
       "    <tr>\n",
       "      <th>9407</th>\n",
       "      <td>2019-06-15 23:40:00</td>\n",
       "      <td>0.453369</td>\n",
       "      <td>12.140625</td>\n",
       "      <td>166</td>\n",
       "    </tr>\n",
       "    <tr>\n",
       "      <th>9408</th>\n",
       "      <td>2019-06-15 23:45:00</td>\n",
       "      <td>0.454970</td>\n",
       "      <td>12.195312</td>\n",
       "      <td>166</td>\n",
       "    </tr>\n",
       "    <tr>\n",
       "      <th>9409</th>\n",
       "      <td>2019-06-15 23:50:00</td>\n",
       "      <td>0.462757</td>\n",
       "      <td>12.304688</td>\n",
       "      <td>166</td>\n",
       "    </tr>\n",
       "    <tr>\n",
       "      <th>9410</th>\n",
       "      <td>2019-06-15 23:55:00</td>\n",
       "      <td>0.459067</td>\n",
       "      <td>12.453125</td>\n",
       "      <td>166</td>\n",
       "    </tr>\n",
       "  </tbody>\n",
       "</table>\n",
       "<p>284 rows × 4 columns</p>\n",
       "</div>"
      ],
      "text/plain": [
       "                 datetime    threat   coverage  yday\n",
       "9127  2019-06-15 00:00:00  0.000000  38.406250   166\n",
       "9128  2019-06-15 00:05:00  0.000000  38.156250   166\n",
       "9129  2019-06-15 00:10:00  0.000000  37.968750   166\n",
       "9130  2019-06-15 00:15:00  0.516785  37.437500   166\n",
       "9131  2019-06-15 00:20:00  0.519472  36.875000   166\n",
       "...                   ...       ...        ...   ...\n",
       "9406  2019-06-15 23:35:00  0.433767  12.031250   166\n",
       "9407  2019-06-15 23:40:00  0.453369  12.140625   166\n",
       "9408  2019-06-15 23:45:00  0.454970  12.195312   166\n",
       "9409  2019-06-15 23:50:00  0.462757  12.304688   166\n",
       "9410  2019-06-15 23:55:00  0.459067  12.453125   166\n",
       "\n",
       "[284 rows x 4 columns]"
      ]
     },
     "execution_count": 114,
     "metadata": {},
     "output_type": "execute_result"
    }
   ],
   "source": [
    "data[data['yday']==166]"
   ]
  },
  {
   "cell_type": "markdown",
   "metadata": {},
   "source": [
    "## check a specific datetime\n",
    "- only threat score"
   ]
  },
  {
   "cell_type": "code",
   "execution_count": 115,
   "metadata": {},
   "outputs": [
    {
     "data": {
      "image/png": "[encoded data removed]",
      "text/plain": [
       "<Figure size 432x288 with 1 Axes>"
      ]
     },
     "metadata": {
      "needs_background": "light"
     },
     "output_type": "display_data"
    }
   ],
   "source": [
    "time_step = 5 * 60 # seconds\n",
    "threshold = 0.1  # mm/h\n",
    "dt = datetime(2019, 6, 15, 12, 0)\n",
    "dt_now = dt + timedelta(seconds = time_step)\n",
    "dt_12  = dt + timedelta(seconds = time_step * 13)\n",
    "yday_str = dt.strftime('%Y_%m_%d')\n",
    "yday_now = dt_now.strftime('%Y_%m_%d')\n",
    "yday_12  = dt_12.strftime('%Y_%m_%d')\n",
    "\n",
    "daily_database = {}\n",
    "inputs = np.zeros(shape = (2,1000,1000), dtype = np.float16)\n",
    "if yday_str not in daily_database:\n",
    "    daily_database[yday_str] = joblib.load(os.path.join(daily_folder, \n",
    "                                                        f\"jma_radar_uint8_{yday_str}.joblib\")) \n",
    "if yday_12 not in daily_database:\n",
    "    daily_database[yday_12]  = joblib.load(os.path.join(daily_folder,\n",
    "                                                        f\"jma_radar_uint8_{yday_12}.joblib\")) \n",
    "\n",
    "sequence_in_day = int(dt.hour*12 + (dt.minute)/5)    \n",
    "inputs[0,:,:] = daily_database[yday_str][sequence_in_day]/10.0\n",
    "inputs[1,:,:] = daily_database[yday_now][(sequence_in_day + 1)%288]/10.0\n",
    "    \n",
    "model = models.Dense()    \n",
    "model.input_data = inputs\n",
    "model.lead_steps = 13\n",
    "nowcast = model.run()  # shape (13, 1000, 1000)\n",
    "dense_13_th = []  # threat score\n",
    "for i in range (13):\n",
    "    dt_predit = dt_now + timedelta(seconds = time_step * i)\n",
    "    yday_pre = dt_predit.strftime('%Y_%m_%d')\n",
    "    sequence = int(dt_predit.hour*12 + (dt_predit.minute)/5)   \n",
    "    ground_truth =  daily_database[yday_pre][sequence]/10.0\n",
    "    dense_13_th.append(metrics.CSI(ground_truth,nowcast[i], threshold = threshold))\n",
    "plt.plot(dense_13_th,'o-')\n",
    "plt.grid()\n",
    "plt.show()"
   ]
  },
  {
   "cell_type": "markdown",
   "metadata": {},
   "source": [
    "## make time sequence images and add score"
   ]
  },
  {
   "cell_type": "code",
   "execution_count": 5,
   "metadata": {},
   "outputs": [],
   "source": [
    "time_step = 5 * 60 # seconds\n",
    "threshold = 0.1  # mm/h\n",
    "dt = datetime(2020, 1, 23 , 0, 0)\n",
    "dt_now = dt + timedelta(seconds = time_step)\n",
    "dt_12  = dt + timedelta(seconds = time_step * 13)\n",
    "yday_str = dt.strftime('%Y_%m_%d')\n",
    "yday_now = dt_now.strftime('%Y_%m_%d')\n",
    "yday_12  = dt_12.strftime('%Y_%m_%d')\n",
    "hh = str(dt_now.hour).zfill(2) \n",
    "mm = str(dt_now.minute).zfill(2)\n",
    "\n",
    "daily_database = {}\n",
    "inputs = np.zeros(shape = (2,1000,1000), dtype = np.float16)\n",
    "if yday_str not in daily_database:\n",
    "    daily_database[yday_str] = joblib.load(os.path.join(daily_folder, \n",
    "                                                        f\"jma_radar_uint8_{yday_str}.joblib\")) \n",
    "if yday_12 not in daily_database:\n",
    "    daily_database[yday_12]  = joblib.load(os.path.join(daily_folder,\n",
    "                                                        f\"jma_radar_uint8_{yday_12}.joblib\")) \n",
    "\n",
    "sequence_in_day = int(dt.hour*12 + (dt.minute)/5)    \n",
    "inputs[0,:,:] = daily_database[yday_str][sequence_in_day]/10.0\n",
    "inputs[1,:,:] = daily_database[yday_now][(sequence_in_day+1)%288]/10.0\n",
    "    \n",
    "model = models.Dense()    \n",
    "model.input_data = inputs\n",
    "model.lead_steps = 13\n",
    "nowcast = model.run()  # shape (13, 1000, 1000)\n",
    "dense_13_th = []  # threat score\n",
    "for i in range (13):\n",
    "    dt_predit = dt_now + timedelta(seconds = time_step * i)\n",
    "    yday_pre = dt_predit.strftime('%Y_%m_%d')\n",
    "    sequence = int(dt_predit.hour*12 + (dt_predit.minute)/5)   \n",
    "    ground_truth =  daily_database[yday_pre][sequence]/10.0\n",
    "    hits, misses, falsealarms, _ = metrics.prep_clf(ground_truth,nowcast[i], threshold = threshold)\n",
    "    #dense_13_th.append(metrics.CSI(ground_truth,nowcast[i], threshold = threshold))\n",
    "    threat =  hits / (hits + misses + falsealarms)\n",
    "    recall =  hits / (hits + misses)\n",
    "    precision = hits / (hits + falsealarms)\n",
    "    \n",
    "    plt.figure(dpi = 100)\n",
    "    \n",
    "    image1 = ground_truth\n",
    "    image2 = nowcast[i]\n",
    "    plt.imshow(np.log(image1 + 0.01),cmap = 'Reds',origin = \"lower\")\n",
    "    plt.imshow(np.log(image2 + 0.01).astype('float32'),cmap = 'Blues',origin = \"lower\",alpha = 0.5)\n",
    "    plt.title(f\"now = {yday_now}-{hh}:{mm} UTC,+{str(i*5).zfill(2)}min\")\n",
    "    plt.text(20, 950, f\"rainy pixels = {np.sum(image1 >= threshold)/(1e6 - 132396) *100 :.1f} %\")\n",
    "    plt.text(20, 900, f\"threshold = {threshold} mm/h\")\n",
    "    plt.text(20, 850, f\"threat = {threat:.2f}\")\n",
    "    plt.text(20, 800, f\"recall = {recall:.2f}\")\n",
    "    plt.text(20, 750, f\"precision = {precision:.2f}\")\n",
    "    plt.text(20, 700, \"Truth(Reds)\",color = \"red\")\n",
    "    plt.text(20, 650, \"Forecast(Blues)\",color = \"blue\")\n",
    "    plt.grid()\n",
    "    plt.tight_layout(h_pad=0.5)\n",
    "    plt.savefig(\"JMA_rainymotion_image_score\" + str(i).zfill(2) + \".png\",format = \"png\",bbox_inches='tight')\n",
    "    plt.close()"
   ]
  },
  {
   "cell_type": "markdown",
   "metadata": {},
   "source": [
    "## make gif animiation and delete png images"
   ]
  },
  {
   "cell_type": "code",
   "execution_count": 6,
   "metadata": {},
   "outputs": [
    {
     "name": "stdout",
     "output_type": "stream",
     "text": [
      "13\n"
     ]
    }
   ],
   "source": [
    "import imageio\n",
    "png_files = glob.glob(\"./JMA_rainymotion_image_score*.png\")\n",
    "png_files.sort()\n",
    "print(len(png_files)) # 288\n",
    "\n",
    "images = []\n",
    "for filename in png_files:\n",
    "    images.append(imageio.imread(filename))\n",
    "    os.system(f\"rm -r {filename}\")\n",
    "output_file = f'JMA_rainymotion_image_score-{yday_now}.gif'\n",
    "imageio.mimsave(output_file, images,duration = 1)  # unit is in seconds"
   ]
  },
  {
   "cell_type": "code",
   "execution_count": null,
   "metadata": {},
   "outputs": [],
   "source": []
  }
 ],
 "metadata": {
  "kernelspec": {
   "display_name": "Python [conda env:rainymotion] *",
   "language": "python",
   "name": "conda-env-rainymotion-py"
  },
  "language_info": {
   "codemirror_mode": {
    "name": "ipython",
    "version": 3
   },
   "file_extension": ".py",
   "mimetype": "text/x-python",
   "name": "python",
   "nbconvert_exporter": "python",
   "pygments_lexer": "ipython3",
   "version": "3.8.0"
  }
 },
 "nbformat": 4,
 "nbformat_minor": 2
}
