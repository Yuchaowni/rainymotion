{
 "cells": [
  {
   "cell_type": "markdown",
   "metadata": {},
   "source": [
    "notes on 2020.2.10:\n",
    "- pysteps result is calculated in a seperate shell. This notebook is only used for case checking"
   ]
  },
  {
   "cell_type": "code",
   "execution_count": 1,
   "metadata": {},
   "outputs": [
    {
     "name": "stdout",
     "output_type": "stream",
     "text": [
      "/Users/jiang/github_all/rainymotion/docs/notebooks\n"
     ]
    }
   ],
   "source": [
    "import glob\n",
    "import numpy as np\n",
    "import matplotlib.pyplot as plt\n",
    "%matplotlib inline\n",
    "import os\n",
    "print(os.getcwd())\n",
    "\n",
    "from rainymotion import models, metrics, utils\n",
    "from collections import OrderedDict\n",
    "import h5py\n",
    "import wradlib.ipol as ipol\n",
    "from datetime import datetime,timedelta\n",
    "import pandas as pd\n",
    "import joblib\n",
    "data_folder = \"/Users/jiang/data/jma_radar\"\n",
    "daily_folder = \"/Users/jiang/data/jma_radar/2019_daily_unit8\"\n",
    "csv_path = os.path.join(data_folder,\"threat_coverage.csv\")\n",
    "data0 = pd.read_csv(csv_path)"
   ]
  },
  {
   "cell_type": "code",
   "execution_count": 4,
   "metadata": {},
   "outputs": [
    {
     "name": "stdout",
     "output_type": "stream",
     "text": [
      "0.5378013431239785\n"
     ]
    }
   ],
   "source": [
    "np.random.seed(3)  # only valid for once\n",
    "select = np.random.choice(23508, 100).astype(np.int16)\n",
    "select.sort()\n",
    "print(data0.loc[select, \"threat\"].median())"
   ]
  },
  {
   "cell_type": "markdown",
   "metadata": {},
   "source": [
    "## rainymotion's results"
   ]
  },
  {
   "cell_type": "code",
   "execution_count": 14,
   "metadata": {},
   "outputs": [
    {
     "name": "stdout",
     "output_type": "stream",
     "text": [
      "CPU times: user 5min 7s, sys: 24.7 s, total: 5min 32s\n",
      "Wall time: 1min 23s\n"
     ]
    },
    {
     "data": {
      "text/plain": [
       "(0.5378013431239785, 0.5391066629046685, 0.473375868031846)"
      ]
     },
     "execution_count": 14,
     "metadata": {},
     "output_type": "execute_result"
    }
   ],
   "source": [
    "%%time\n",
    "\n",
    "time_step = 5 * 60 # seconds\n",
    "threshold = 0.1  # mm/h\n",
    "\n",
    "modela = models.Dense60()  \n",
    "# default method is \"DIS\"\n",
    "# default advection is \"constant-vector\"\n",
    "daily_database = {}\n",
    "inputs = np.zeros(shape = (2,1000,1000), dtype = np.float16)\n",
    "a_threat = []\n",
    "per_threat = []\n",
    "for i in select:  \n",
    "    dt =     datetime.strptime(data0.loc[i,\"datetime\"], '%Y-%m-%d %H:%M:%S')\n",
    "    dt_now = dt + timedelta(seconds = time_step)\n",
    "    dt_12  = dt + timedelta(seconds = time_step * 13)\n",
    "    yday_str = dt.strftime('%Y_%m_%d')    \n",
    "    yday_now = dt_now.strftime('%Y_%m_%d')\n",
    "    yday_12 =  dt_12.strftime('%Y_%m_%d')\n",
    "\n",
    "    if yday_str not in daily_database:\n",
    "        daily_database[yday_str] = joblib.load(os.path.join(daily_folder, f\"jma_radar_uint8_{yday_str}.joblib\"))\n",
    "    if yday_12 not in daily_database:\n",
    "        daily_database[yday_12] =  joblib.load(os.path.join(daily_folder, f\"jma_radar_uint8_{yday_12}.joblib\")) \n",
    "\n",
    "    inputs[0,:,:] = daily_database[yday_str][int(dt.hour*12     + (dt.minute)/5)]/10.0   # back to original scale\n",
    "    inputs[1,:,:] = daily_database[yday_now][int(dt_now.hour*12 + (dt_now.minute)/5)]/10.0\n",
    "    gt_in_60_min =   daily_database[yday_12][int(dt_12.hour*12  + (dt_12.minute)/5)]/10.0\n",
    "    modela.input_data = inputs\n",
    "    a_threat.append(metrics.CSI(gt_in_60_min, modela.run(), threshold = threshold))\n",
    "    per_threat.append(metrics.CSI(gt_in_60_min, inputs[1,:,:], threshold = threshold)) \n",
    "# Wall time: 1 min\n",
    "data0.loc[select, \"threat\"].median(), np.median(a_threat), np.median(per_threat)"
   ]
  },
  {
   "cell_type": "markdown",
   "metadata": {},
   "source": [
    "## Pysteps's OF + rainymotion's advection"
   ]
  },
  {
   "cell_type": "code",
   "execution_count": 21,
   "metadata": {},
   "outputs": [
    {
     "name": "stdout",
     "output_type": "stream",
     "text": [
      "CPU times: user 4min 43s, sys: 18.9 s, total: 5min 2s\n",
      "Wall time: 1min 12s\n"
     ]
    }
   ],
   "source": [
    "%%time\n",
    "\n",
    "time_step = 5 * 60 # seconds\n",
    "threshold = 0.1  # mm/h\n",
    "\n",
    "all_uv = joblib.load(\"/Users/jiang/data/all_uv_vet.joblib\")\n",
    "\n",
    "daily_database = {}\n",
    "#inputs = np.zeros(shape = (3,1000,1000), dtype = np.float16)\n",
    "inputs = np.zeros(shape = (1000,1000), dtype = np.float16)\n",
    "threshold = 0.1\n",
    "zerovalue = -15.0\n",
    "\n",
    "step_threat = []\n",
    "cnt = -1\n",
    "for i in select:  \n",
    "    cnt += 1 \n",
    "    dt =     datetime.strptime(data0.loc[i,\"datetime\"], '%Y-%m-%d %H:%M:%S')\n",
    "    dt_minus = dt - timedelta(seconds = time_step)\n",
    "    dt_now = dt + timedelta(seconds = time_step)\n",
    "    dt_12  = dt + timedelta(seconds = time_step * 13)\n",
    "    yday_minus = dt_minus.strftime('%Y_%m_%d')\n",
    "    yday_str = dt.strftime('%Y_%m_%d')    \n",
    "    yday_now = dt_now.strftime('%Y_%m_%d')\n",
    "    yday_12 =  dt_12.strftime('%Y_%m_%d')\n",
    "\n",
    "    if yday_minus not in daily_database:\n",
    "        daily_database[yday_minus] = joblib.load(os.path.join(daily_folder, f\"jma_radar_uint8_{yday_minus}.joblib\")) \n",
    "    if yday_12 not in daily_database:\n",
    "        daily_database[yday_12] =  joblib.load(os.path.join(daily_folder, f\"jma_radar_uint8_{yday_12}.joblib\")) \n",
    "    \n",
    "    sequence_in_day = int(dt_minus.hour*12 + (dt_minus.minute)/5)    \n",
    "    #inputs[0,:,:] = daily_database[yday_minus][sequence_in_day]/10.0\n",
    "    #inputs[1,:,:] = daily_database[yday_str][(sequence_in_day + 1)%288]/10.0\n",
    "    inputs = daily_database[yday_now][(sequence_in_day + 2)%288]/10.0\n",
    "    #zeros = inputs < threshold\n",
    "    #inputs[~zeros] = 10.0 * np.log10(inputs [~zeros] )\n",
    "    #inputs[zeros] = zerovalue\n",
    "\n",
    "    gt_in_60_min =   daily_database[yday_12][int(dt_12.hour*12  + (dt_12.minute)/5)]/10.0\n",
    "    \n",
    "    uv = all_uv[cnt]\n",
    "    u = uv[0]\n",
    "    v = uv[1]    \n",
    "    coord_source_i, coord_source_j = np.meshgrid(range(u.shape[1]),range(u.shape[0]))\n",
    "    coord_source = [coord_source_i, coord_source_j]\n",
    "    # calculate new coordinates of radar pixels\n",
    "    coord_target_i = coord_source_i + u * 12\n",
    "    coord_target_j = coord_source_j + v * 12\n",
    "    coord_targets =[coord_target_i, coord_target_j]\n",
    "    steps = models._interpolator(inputs, coord_source, coord_targets, method= \"idw\")\n",
    "    \n",
    "    step_threat.append(metrics.CSI(gt_in_60_min, steps, threshold = threshold))"
   ]
  },
  {
   "cell_type": "markdown",
   "metadata": {},
   "source": [
    "## convert to panda dataframe and do data analysis"
   ]
  },
  {
   "cell_type": "code",
   "execution_count": 22,
   "metadata": {},
   "outputs": [
    {
     "data": {
      "text/plain": [
       "(0.5378013431239785, 0.5391066629046685, 0.5349609769117923, 0.473375868031846)"
      ]
     },
     "execution_count": 22,
     "metadata": {},
     "output_type": "execute_result"
    }
   ],
   "source": [
    "data = data0.loc[select,:]\n",
    "data['threat_new']  = a_threat\n",
    "data['threat_step'] = step_threat\n",
    "data['threat_per']  = per_threat\n",
    "np.median(data.threat),np.median(data.threat_new), np.median(data.threat_step), np.median(data.threat_per)"
   ]
  },
  {
   "cell_type": "code",
   "execution_count": null,
   "metadata": {},
   "outputs": [],
   "source": []
  }
 ],
 "metadata": {
  "kernelspec": {
   "display_name": "Python 3",
   "language": "python",
   "name": "python3"
  },
  "language_info": {
   "codemirror_mode": {
    "name": "ipython",
    "version": 3
   },
   "file_extension": ".py",
   "mimetype": "text/x-python",
   "name": "python",
   "nbconvert_exporter": "python",
   "pygments_lexer": "ipython3",
   "version": "3.8.0"
  }
 },
 "nbformat": 4,
 "nbformat_minor": 2
}
