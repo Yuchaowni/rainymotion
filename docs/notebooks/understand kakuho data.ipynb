{
 "cells": [
  {
   "cell_type": "code",
   "execution_count": 1,
   "metadata": {},
   "outputs": [
    {
     "name": "stdout",
     "output_type": "stream",
     "text": [
      "/Users/jiang/github_all/rainymotion/docs/notebooks\n"
     ]
    }
   ],
   "source": [
    "import glob\n",
    "import numpy as np\n",
    "import matplotlib.pyplot as plt\n",
    "%matplotlib inline\n",
    "import os\n",
    "print(os.getcwd())\n",
    "\n",
    "data_folder = \"/Users/jiang/data/rain_kakuho\"\n",
    "grib_files = glob.glob(os.path.join(data_folder,\"*.000\"))  # 288 = 12*24\n",
    "grib_files.sort()"
   ]
  },
  {
   "cell_type": "code",
   "execution_count": 2,
   "metadata": {},
   "outputs": [
    {
     "data": {
      "text/plain": [
       "['/Users/jiang/data/rain_kakuho/20200108_082000.000',\n",
       " '/Users/jiang/data/rain_kakuho/20200108_082500.000']"
      ]
     },
     "execution_count": 2,
     "metadata": {},
     "output_type": "execute_result"
    }
   ],
   "source": [
    "grib_files"
   ]
  },
  {
   "cell_type": "markdown",
   "metadata": {},
   "source": [
    "### read wgrib2 file into nc file"
   ]
  },
  {
   "cell_type": "code",
   "execution_count": 6,
   "metadata": {},
   "outputs": [],
   "source": [
    "varlist = [\":{} min\".format(i) for i in range(5,185,5)]  # create a varaible list from 5 to 180 min\n",
    "var = '|'.join(varlist)\n",
    "for grib_file in grib_files:\n",
    "    cmd = \"wgrib2 {0} -s | egrep '({1})'|wgrib2 -i {0} -netcdf {2}\".format(grib_file, var, grib_file +\".nc\")\n",
    "    fail = os.system(cmd)  # 0 indicate success, others indicate fail\n",
    "    if fail:\n",
    "        print(\"wgrib2 wrong at \", grib_file)"
   ]
  },
  {
   "cell_type": "code",
   "execution_count": 22,
   "metadata": {},
   "outputs": [
    {
     "name": "stdout",
     "output_type": "stream",
     "text": [
      "2020-01-08 08:25 UTC \n"
     ]
    }
   ],
   "source": [
    "from netCDF4 import Dataset\n",
    "nc_file = grib_files[0] +\".nc\"\n",
    "root = Dataset(nc_file, \"r\")\n",
    "\n",
    "from datetime import datetime,timedelta\n",
    "dt = datetime(1970, 1, 1) + timedelta(seconds = root['time'][0].compressed()[0])\n",
    "date_string = dt.strftime('%Y-%m-%d %H:%M UTC ')\n",
    "print(date_string)"
   ]
  },
  {
   "cell_type": "code",
   "execution_count": 23,
   "metadata": {},
   "outputs": [
    {
     "data": {
      "text/plain": [
       "<class 'netCDF4._netCDF4.Dataset'>\n",
       "root group (NETCDF3_CLASSIC data model, file format NETCDF3):\n",
       "    Conventions: COARDS\n",
       "    History: created by wgrib2\n",
       "    GRIB2_grid_template: 0\n",
       "    dimensions(sizes): latitude(3360), longitude(2560), time(36)\n",
       "    variables(dimensions): float64 latitude(latitude), float64 longitude(longitude), float64 time(time), float32 APCP_surface(time,latitude,longitude)\n",
       "    groups: "
      ]
     },
     "execution_count": 23,
     "metadata": {},
     "output_type": "execute_result"
    }
   ],
   "source": [
    "root"
   ]
  },
  {
   "cell_type": "code",
   "execution_count": 24,
   "metadata": {},
   "outputs": [],
   "source": [
    "root['APCP_surface'].shape  # shape (36, 3360, 2560)\n",
    "rain = root['APCP_surface'][0,:,:]\n",
    "rain_reduced = rain[1500:2500,1000:2000].copy()\n",
    "rain_reduced.fill_value = 0.0\n",
    "rain_filled = rain_reduced.filled().astype('float16')"
   ]
  },
  {
   "cell_type": "code",
   "execution_count": 21,
   "metadata": {},
   "outputs": [
    {
     "data": {
      "image/png": "[encoded data removed]",
      "text/plain": [
       "<Figure size 432x288 with 1 Axes>"
      ]
     },
     "metadata": {
      "needs_background": "light"
     },
     "output_type": "display_data"
    }
   ],
   "source": [
    "plt.hist(rain_filled.ravel(),256)\n",
    "plt.yscale('log')"
   ]
  },
  {
   "cell_type": "code",
   "execution_count": null,
   "metadata": {},
   "outputs": [],
   "source": []
  }
 ],
 "metadata": {
  "kernelspec": {
   "display_name": "Python [conda env:rainymotion] *",
   "language": "python",
   "name": "conda-env-rainymotion-py"
  },
  "language_info": {
   "codemirror_mode": {
    "name": "ipython",
    "version": 3
   },
   "file_extension": ".py",
   "mimetype": "text/x-python",
   "name": "python",
   "nbconvert_exporter": "python",
   "pygments_lexer": "ipython3",
   "version": "3.8.0"
  }
 },
 "nbformat": 4,
 "nbformat_minor": 2
}
