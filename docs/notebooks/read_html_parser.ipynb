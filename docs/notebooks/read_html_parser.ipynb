{
 "cells": [
  {
   "cell_type": "markdown",
   "metadata": {},
   "source": [
    "https://wiki.jikexueyuan.com/project/python-crawler-guide/beautiful-soup.html\n",
    "\n",
    "https://github.com/jychstar/NanoDegreeProject/blob/master/DataND/P3_MongoDB/XML%2CHTML.ipynb\n",
    "\n"
   ]
  },
  {
   "cell_type": "code",
   "execution_count": 1,
   "metadata": {},
   "outputs": [],
   "source": [
    "from bs4 import BeautifulSoup"
   ]
  },
  {
   "cell_type": "code",
   "execution_count": 8,
   "metadata": {},
   "outputs": [
    {
     "name": "stdout",
     "output_type": "stream",
     "text": [
      "/Users/jiang/github_all/rainymotion/docs/notebooks\n",
      "UTC now: 2020-03-12 02:16\n"
     ]
    }
   ],
   "source": [
    "import os\n",
    "import numpy as np\n",
    "import matplotlib.pyplot as plt\n",
    "from datetime import datetime,timedelta\n",
    "import urllib\n",
    "\n",
    "print(os.getcwd())\n",
    "dt = datetime.utcnow()\n",
    "print(\"UTC now:\",dt.strftime(\"%Y-%m-%d %H:%M\"))\n",
    "\n",
    "base_page = \"http://stock1.wni.co.jp/cgi-bin/list.cgi?path=/stock1m/400220382\"\n",
    "base_URL = \"http://stock1.wni.co.jp/stock1m/400220382\"\n",
    "base_goal = \"/Users/jiang/data/radar400220382\"\n",
    "\n",
    "page_URL = os.path.join(base_page,dt.strftime(\"%Y/%m/%d\"))\n",
    "source_folder = os.path.join(base_URL,dt.strftime(\"%Y/%m/%d\"))\n",
    "with urllib.request.urlopen(page_URL) as response:\n",
    "    html = response.read()"
   ]
  },
  {
   "cell_type": "code",
   "execution_count": 9,
   "metadata": {},
   "outputs": [],
   "source": [
    "soup = BeautifulSoup(html, 'html.parser')"
   ]
  },
  {
   "cell_type": "code",
   "execution_count": 10,
   "metadata": {},
   "outputs": [],
   "source": [
    "strhtm = soup.prettify()"
   ]
  },
  {
   "cell_type": "code",
   "execution_count": 12,
   "metadata": {},
   "outputs": [
    {
     "name": "stdout",
     "output_type": "stream",
     "text": [
      "<td><img src=\"/icons/back.gif\"/></td>\n",
      "<td><a href=\"/cgi-bin/list.cgi?path=/stock1m/400220382/2020/03&amp;format=&amp;area=JP\">Parent Directory</a></td>\n",
      "<td> </td>\n",
      "<td> </td>\n",
      "<td></td>\n"
     ]
    }
   ],
   "source": [
    "tbody = soup.find('tbody')\n",
    "for tr in tbody.find('tr'):\n",
    "    #for td in tr.find('td'):\n",
    "    print(tr)"
   ]
  },
  {
   "cell_type": "code",
   "execution_count": 13,
   "metadata": {},
   "outputs": [
    {
     "name": "stdout",
     "output_type": "stream",
     "text": [
      "Parent Directory\n"
     ]
    }
   ],
   "source": [
    "tbody = soup.find('tbody')\n",
    "for tr in tbody.find('a'):\n",
    "    print(tr)"
   ]
  },
  {
   "cell_type": "code",
   "execution_count": 14,
   "metadata": {},
   "outputs": [
    {
     "name": "stdout",
     "output_type": "stream",
     "text": [
      "\n",
      "\n",
      "<tr><td><img src=\"/icons/back.gif\"/></td><td><a href=\"/cgi-bin/list.cgi?path=/stock1m/400220382/2020/03&amp;format=&amp;area=JP\">Parent Directory</a></td><td> </td><td> </td><td></td></tr>\n",
      "\n",
      "\n",
      "<tr><td><img src=\"/icons/generic.gif\"/></td><td><a href=\"/cgi-bin/search_latest.cgi?path=/stock1m/400220382/2020/03/12/20200312_000256.202&amp;format=&amp;area=JP\" target=\"_blank\">20200312_000256.202</a></td><td> 12-Mar-2020 09:02</td><td> 116.4K</td><td><a href=\"/stock1m/400220382/2020/03/12/20200312_000256.202\"> &lt; download &gt; </a></td></tr>\n",
      "\n",
      "\n",
      "<tr><td><img src=\"/icons/generic.gif\"/></td><td><a href=\"/cgi-bin/search_latest.cgi?path=/stock1m/400220382/2020/03/12/20200312_000757.606&amp;format=&amp;area=JP\" target=\"_blank\">20200312_000757.606</a></td><td> 12-Mar-2020 09:07</td><td> 116.7K</td><td><a href=\"/stock1m/400220382/2020/03/12/20200312_000757.606\"> &lt; download &gt; </a></td></tr>\n",
      "\n",
      "\n",
      "<tr><td><img src=\"/icons/generic.gif\"/></td><td><a href=\"/cgi-bin/search_latest.cgi?path=/stock1m/400220382/2020/03/12/20200312_001258.212&amp;format=&amp;area=JP\" target=\"_blank\">20200312_001258.212</a></td><td> 12-Mar-2020 09:12</td><td> 118.2K</td><td><a href=\"/stock1m/400220382/2020/03/12/20200312_001258.212\"> &lt; download &gt; </a></td></tr>\n",
      "\n",
      "\n",
      "<tr><td><img src=\"/icons/generic.gif\"/></td><td><a href=\"/cgi-bin/search_latest.cgi?path=/stock1m/400220382/2020/03/12/20200312_001758.767&amp;format=&amp;area=JP\" target=\"_blank\">20200312_001758.767</a></td><td> 12-Mar-2020 09:17</td><td> 118.9K</td><td><a href=\"/stock1m/400220382/2020/03/12/20200312_001758.767\"> &lt; download &gt; </a></td></tr>\n",
      "\n",
      "\n",
      "<tr><td><img src=\"/icons/generic.gif\"/></td><td><a href=\"/cgi-bin/search_latest.cgi?path=/stock1m/400220382/2020/03/12/20200312_002302.122&amp;format=&amp;area=JP\" target=\"_blank\">20200312_002302.122</a></td><td> 12-Mar-2020 09:23</td><td> 120.0K</td><td><a href=\"/stock1m/400220382/2020/03/12/20200312_002302.122\"> &lt; download &gt; </a></td></tr>\n",
      "\n",
      "\n",
      "<tr><td><img src=\"/icons/generic.gif\"/></td><td><a href=\"/cgi-bin/search_latest.cgi?path=/stock1m/400220382/2020/03/12/20200312_002802.657&amp;format=&amp;area=JP\" target=\"_blank\">20200312_002802.657</a></td><td> 12-Mar-2020 09:28</td><td> 119.6K</td><td><a href=\"/stock1m/400220382/2020/03/12/20200312_002802.657\"> &lt; download &gt; </a></td></tr>\n",
      "\n",
      "\n",
      "<tr><td><img src=\"/icons/generic.gif\"/></td><td><a href=\"/cgi-bin/search_latest.cgi?path=/stock1m/400220382/2020/03/12/20200312_003348.152&amp;format=&amp;area=JP\" target=\"_blank\">20200312_003348.152</a></td><td> 12-Mar-2020 09:33</td><td> 120.6K</td><td><a href=\"/stock1m/400220382/2020/03/12/20200312_003348.152\"> &lt; download &gt; </a></td></tr>\n",
      "\n",
      "\n",
      "<tr><td><img src=\"/icons/generic.gif\"/></td><td><a href=\"/cgi-bin/search_latest.cgi?path=/stock1m/400220382/2020/03/12/20200312_003758.776&amp;format=&amp;area=JP\" target=\"_blank\">20200312_003758.776</a></td><td> 12-Mar-2020 09:37</td><td> 122.7K</td><td><a href=\"/stock1m/400220382/2020/03/12/20200312_003758.776\"> &lt; download &gt; </a></td></tr>\n",
      "\n",
      "\n",
      "<tr><td><img src=\"/icons/generic.gif\"/></td><td><a href=\"/cgi-bin/search_latest.cgi?path=/stock1m/400220382/2020/03/12/20200312_004300.161&amp;format=&amp;area=JP\" target=\"_blank\">20200312_004300.161</a></td><td> 12-Mar-2020 09:43</td><td> 123.7K</td><td><a href=\"/stock1m/400220382/2020/03/12/20200312_004300.161\"> &lt; download &gt; </a></td></tr>\n",
      "\n",
      "\n",
      "<tr><td><img src=\"/icons/generic.gif\"/></td><td><a href=\"/cgi-bin/search_latest.cgi?path=/stock1m/400220382/2020/03/12/20200312_004758.807&amp;format=&amp;area=JP\" target=\"_blank\">20200312_004758.807</a></td><td> 12-Mar-2020 09:47</td><td> 123.5K</td><td><a href=\"/stock1m/400220382/2020/03/12/20200312_004758.807\"> &lt; download &gt; </a></td></tr>\n",
      "\n",
      "\n",
      "<tr><td><img src=\"/icons/generic.gif\"/></td><td><a href=\"/cgi-bin/search_latest.cgi?path=/stock1m/400220382/2020/03/12/20200312_005255.919&amp;format=&amp;area=JP\" target=\"_blank\">20200312_005255.919</a></td><td> 12-Mar-2020 09:52</td><td> 125.2K</td><td><a href=\"/stock1m/400220382/2020/03/12/20200312_005255.919\"> &lt; download &gt; </a></td></tr>\n",
      "\n",
      "\n",
      "<tr><td><img src=\"/icons/generic.gif\"/></td><td><a href=\"/cgi-bin/search_latest.cgi?path=/stock1m/400220382/2020/03/12/20200312_005756.757&amp;format=&amp;area=JP\" target=\"_blank\">20200312_005756.757</a></td><td> 12-Mar-2020 09:57</td><td> 127.4K</td><td><a href=\"/stock1m/400220382/2020/03/12/20200312_005756.757\"> &lt; download &gt; </a></td></tr>\n",
      "\n",
      "\n",
      "<tr><td><img src=\"/icons/generic.gif\"/></td><td><a href=\"/cgi-bin/search_latest.cgi?path=/stock1m/400220382/2020/03/12/20200312_010258.156&amp;format=&amp;area=JP\" target=\"_blank\">20200312_010258.156</a></td><td> 12-Mar-2020 10:02</td><td> 128.1K</td><td><a href=\"/stock1m/400220382/2020/03/12/20200312_010258.156\"> &lt; download &gt; </a></td></tr>\n",
      "\n",
      "\n",
      "<tr><td><img src=\"/icons/generic.gif\"/></td><td><a href=\"/cgi-bin/search_latest.cgi?path=/stock1m/400220382/2020/03/12/20200312_010758.984&amp;format=&amp;area=JP\" target=\"_blank\">20200312_010758.984</a></td><td> 12-Mar-2020 10:07</td><td> 125.3K</td><td><a href=\"/stock1m/400220382/2020/03/12/20200312_010758.984\"> &lt; download &gt; </a></td></tr>\n",
      "\n",
      "\n",
      "<tr><td><img src=\"/icons/generic.gif\"/></td><td><a href=\"/cgi-bin/search_latest.cgi?path=/stock1m/400220382/2020/03/12/20200312_011300.799&amp;format=&amp;area=JP\" target=\"_blank\">20200312_011300.799</a></td><td> 12-Mar-2020 10:13</td><td> 126.7K</td><td><a href=\"/stock1m/400220382/2020/03/12/20200312_011300.799\"> &lt; download &gt; </a></td></tr>\n",
      "\n",
      "\n",
      "<tr><td><img src=\"/icons/generic.gif\"/></td><td><a href=\"/cgi-bin/search_latest.cgi?path=/stock1m/400220382/2020/03/12/20200312_011758.461&amp;format=&amp;area=JP\" target=\"_blank\">20200312_011758.461</a></td><td> 12-Mar-2020 10:17</td><td> 127.1K</td><td><a href=\"/stock1m/400220382/2020/03/12/20200312_011758.461\"> &lt; download &gt; </a></td></tr>\n",
      "\n",
      "\n",
      "<tr><td><img src=\"/icons/generic.gif\"/></td><td><a href=\"/cgi-bin/search_latest.cgi?path=/stock1m/400220382/2020/03/12/20200312_012300.642&amp;format=&amp;area=JP\" target=\"_blank\">20200312_012300.642</a></td><td> 12-Mar-2020 10:23</td><td> 127.2K</td><td><a href=\"/stock1m/400220382/2020/03/12/20200312_012300.642\"> &lt; download &gt; </a></td></tr>\n",
      "\n",
      "\n",
      "<tr><td><img src=\"/icons/generic.gif\"/></td><td><a href=\"/cgi-bin/search_latest.cgi?path=/stock1m/400220382/2020/03/12/20200312_012758.707&amp;format=&amp;area=JP\" target=\"_blank\">20200312_012758.707</a></td><td> 12-Mar-2020 10:27</td><td> 126.6K</td><td><a href=\"/stock1m/400220382/2020/03/12/20200312_012758.707\"> &lt; download &gt; </a></td></tr>\n",
      "\n",
      "\n",
      "<tr><td><img src=\"/icons/generic.gif\"/></td><td><a href=\"/cgi-bin/search_latest.cgi?path=/stock1m/400220382/2020/03/12/20200312_013301.268&amp;format=&amp;area=JP\" target=\"_blank\">20200312_013301.268</a></td><td> 12-Mar-2020 10:33</td><td> 126.5K</td><td><a href=\"/stock1m/400220382/2020/03/12/20200312_013301.268\"> &lt; download &gt; </a></td></tr>\n",
      "\n",
      "\n",
      "<tr><td><img src=\"/icons/generic.gif\"/></td><td><a href=\"/cgi-bin/search_latest.cgi?path=/stock1m/400220382/2020/03/12/20200312_013759.706&amp;format=&amp;area=JP\" target=\"_blank\">20200312_013759.706</a></td><td> 12-Mar-2020 10:38</td><td> 127.3K</td><td><a href=\"/stock1m/400220382/2020/03/12/20200312_013759.706\"> &lt; download &gt; </a></td></tr>\n",
      "\n",
      "\n",
      "<tr><td><img src=\"/icons/generic.gif\"/></td><td><a href=\"/cgi-bin/search_latest.cgi?path=/stock1m/400220382/2020/03/12/20200312_014256.294&amp;format=&amp;area=JP\" target=\"_blank\">20200312_014256.294</a></td><td> 12-Mar-2020 10:42</td><td> 126.3K</td><td><a href=\"/stock1m/400220382/2020/03/12/20200312_014256.294\"> &lt; download &gt; </a></td></tr>\n",
      "\n",
      "\n",
      "<tr><td><img src=\"/icons/generic.gif\"/></td><td><a href=\"/cgi-bin/search_latest.cgi?path=/stock1m/400220382/2020/03/12/20200312_014804.127&amp;format=&amp;area=JP\" target=\"_blank\">20200312_014804.127</a></td><td> 12-Mar-2020 10:48</td><td> 127.8K</td><td><a href=\"/stock1m/400220382/2020/03/12/20200312_014804.127\"> &lt; download &gt; </a></td></tr>\n",
      "\n",
      "\n",
      "<tr><td><img src=\"/icons/generic.gif\"/></td><td><a href=\"/cgi-bin/search_latest.cgi?path=/stock1m/400220382/2020/03/12/20200312_015255.244&amp;format=&amp;area=JP\" target=\"_blank\">20200312_015255.244</a></td><td> 12-Mar-2020 10:52</td><td> 129.0K</td><td><a href=\"/stock1m/400220382/2020/03/12/20200312_015255.244\"> &lt; download &gt; </a></td></tr>\n",
      "\n",
      "\n",
      "<tr><td><img src=\"/icons/generic.gif\"/></td><td><a href=\"/cgi-bin/search_latest.cgi?path=/stock1m/400220382/2020/03/12/20200312_015753.658&amp;format=&amp;area=JP\" target=\"_blank\">20200312_015753.658</a></td><td> 12-Mar-2020 10:57</td><td> 129.6K</td><td><a href=\"/stock1m/400220382/2020/03/12/20200312_015753.658\"> &lt; download &gt; </a></td></tr>\n",
      "\n",
      "\n",
      "<tr><td><img src=\"/icons/generic.gif\"/></td><td><a href=\"/cgi-bin/search_latest.cgi?path=/stock1m/400220382/2020/03/12/20200312_020258.981&amp;format=&amp;area=JP\" target=\"_blank\">20200312_020258.981</a></td><td> 12-Mar-2020 11:02</td><td> 130.0K</td><td><a href=\"/stock1m/400220382/2020/03/12/20200312_020258.981\"> &lt; download &gt; </a></td></tr>\n",
      "\n",
      "\n",
      "<tr><td><img src=\"/icons/generic.gif\"/></td><td><a href=\"/cgi-bin/search_latest.cgi?path=/stock1m/400220382/2020/03/12/20200312_020757.865&amp;format=&amp;area=JP\" target=\"_blank\">20200312_020757.865</a></td><td> 12-Mar-2020 11:07</td><td> 99.6K</td><td><a href=\"/stock1m/400220382/2020/03/12/20200312_020757.865\"> &lt; download &gt; </a></td></tr>\n",
      "\n",
      "\n",
      "<tr><td><img src=\"/icons/generic.gif\"/></td><td><a href=\"/cgi-bin/search_latest.cgi?path=/stock1m/400220382/2020/03/12/20200312_021258.296&amp;format=&amp;area=JP\" target=\"_blank\">20200312_021258.296</a></td><td> 12-Mar-2020 11:12</td><td> 99.8K</td><td><a href=\"/stock1m/400220382/2020/03/12/20200312_021258.296\"> &lt; download &gt; </a></td></tr>\n",
      "\n",
      "\n"
     ]
    }
   ],
   "source": [
    "for tr in tbody.children:\n",
    "    print(tr)"
   ]
  },
  {
   "cell_type": "code",
   "execution_count": 15,
   "metadata": {},
   "outputs": [
    {
     "name": "stdout",
     "output_type": "stream",
     "text": [
      "-1\n",
      "<a href=\"/cgi-bin/list.cgi?path=/stock1m/400220382/2020/03&amp;format=&amp;area=JP\">Parent Directory</a>\n",
      "-1\n",
      "<a href=\"/cgi-bin/search_latest.cgi?path=/stock1m/400220382/2020/03/12/20200312_000256.202&amp;format=&amp;area=JP\" target=\"_blank\">20200312_000256.202</a>\n",
      "-1\n",
      "<a href=\"/cgi-bin/search_latest.cgi?path=/stock1m/400220382/2020/03/12/20200312_000757.606&amp;format=&amp;area=JP\" target=\"_blank\">20200312_000757.606</a>\n",
      "-1\n",
      "<a href=\"/cgi-bin/search_latest.cgi?path=/stock1m/400220382/2020/03/12/20200312_001258.212&amp;format=&amp;area=JP\" target=\"_blank\">20200312_001258.212</a>\n",
      "-1\n",
      "<a href=\"/cgi-bin/search_latest.cgi?path=/stock1m/400220382/2020/03/12/20200312_001758.767&amp;format=&amp;area=JP\" target=\"_blank\">20200312_001758.767</a>\n",
      "-1\n",
      "<a href=\"/cgi-bin/search_latest.cgi?path=/stock1m/400220382/2020/03/12/20200312_002302.122&amp;format=&amp;area=JP\" target=\"_blank\">20200312_002302.122</a>\n",
      "-1\n",
      "<a href=\"/cgi-bin/search_latest.cgi?path=/stock1m/400220382/2020/03/12/20200312_002802.657&amp;format=&amp;area=JP\" target=\"_blank\">20200312_002802.657</a>\n",
      "-1\n",
      "<a href=\"/cgi-bin/search_latest.cgi?path=/stock1m/400220382/2020/03/12/20200312_003348.152&amp;format=&amp;area=JP\" target=\"_blank\">20200312_003348.152</a>\n",
      "-1\n",
      "<a href=\"/cgi-bin/search_latest.cgi?path=/stock1m/400220382/2020/03/12/20200312_003758.776&amp;format=&amp;area=JP\" target=\"_blank\">20200312_003758.776</a>\n",
      "-1\n",
      "<a href=\"/cgi-bin/search_latest.cgi?path=/stock1m/400220382/2020/03/12/20200312_004300.161&amp;format=&amp;area=JP\" target=\"_blank\">20200312_004300.161</a>\n",
      "-1\n",
      "<a href=\"/cgi-bin/search_latest.cgi?path=/stock1m/400220382/2020/03/12/20200312_004758.807&amp;format=&amp;area=JP\" target=\"_blank\">20200312_004758.807</a>\n",
      "-1\n",
      "<a href=\"/cgi-bin/search_latest.cgi?path=/stock1m/400220382/2020/03/12/20200312_005255.919&amp;format=&amp;area=JP\" target=\"_blank\">20200312_005255.919</a>\n",
      "-1\n",
      "<a href=\"/cgi-bin/search_latest.cgi?path=/stock1m/400220382/2020/03/12/20200312_005756.757&amp;format=&amp;area=JP\" target=\"_blank\">20200312_005756.757</a>\n",
      "-1\n",
      "<a href=\"/cgi-bin/search_latest.cgi?path=/stock1m/400220382/2020/03/12/20200312_010258.156&amp;format=&amp;area=JP\" target=\"_blank\">20200312_010258.156</a>\n",
      "-1\n",
      "<a href=\"/cgi-bin/search_latest.cgi?path=/stock1m/400220382/2020/03/12/20200312_010758.984&amp;format=&amp;area=JP\" target=\"_blank\">20200312_010758.984</a>\n",
      "-1\n",
      "<a href=\"/cgi-bin/search_latest.cgi?path=/stock1m/400220382/2020/03/12/20200312_011300.799&amp;format=&amp;area=JP\" target=\"_blank\">20200312_011300.799</a>\n",
      "-1\n",
      "<a href=\"/cgi-bin/search_latest.cgi?path=/stock1m/400220382/2020/03/12/20200312_011758.461&amp;format=&amp;area=JP\" target=\"_blank\">20200312_011758.461</a>\n",
      "-1\n",
      "<a href=\"/cgi-bin/search_latest.cgi?path=/stock1m/400220382/2020/03/12/20200312_012300.642&amp;format=&amp;area=JP\" target=\"_blank\">20200312_012300.642</a>\n",
      "-1\n",
      "<a href=\"/cgi-bin/search_latest.cgi?path=/stock1m/400220382/2020/03/12/20200312_012758.707&amp;format=&amp;area=JP\" target=\"_blank\">20200312_012758.707</a>\n",
      "-1\n",
      "<a href=\"/cgi-bin/search_latest.cgi?path=/stock1m/400220382/2020/03/12/20200312_013301.268&amp;format=&amp;area=JP\" target=\"_blank\">20200312_013301.268</a>\n",
      "-1\n",
      "<a href=\"/cgi-bin/search_latest.cgi?path=/stock1m/400220382/2020/03/12/20200312_013759.706&amp;format=&amp;area=JP\" target=\"_blank\">20200312_013759.706</a>\n",
      "-1\n",
      "<a href=\"/cgi-bin/search_latest.cgi?path=/stock1m/400220382/2020/03/12/20200312_014256.294&amp;format=&amp;area=JP\" target=\"_blank\">20200312_014256.294</a>\n",
      "-1\n",
      "<a href=\"/cgi-bin/search_latest.cgi?path=/stock1m/400220382/2020/03/12/20200312_014804.127&amp;format=&amp;area=JP\" target=\"_blank\">20200312_014804.127</a>\n",
      "-1\n",
      "<a href=\"/cgi-bin/search_latest.cgi?path=/stock1m/400220382/2020/03/12/20200312_015255.244&amp;format=&amp;area=JP\" target=\"_blank\">20200312_015255.244</a>\n",
      "-1\n",
      "<a href=\"/cgi-bin/search_latest.cgi?path=/stock1m/400220382/2020/03/12/20200312_015753.658&amp;format=&amp;area=JP\" target=\"_blank\">20200312_015753.658</a>\n",
      "-1\n",
      "<a href=\"/cgi-bin/search_latest.cgi?path=/stock1m/400220382/2020/03/12/20200312_020258.981&amp;format=&amp;area=JP\" target=\"_blank\">20200312_020258.981</a>\n",
      "-1\n",
      "<a href=\"/cgi-bin/search_latest.cgi?path=/stock1m/400220382/2020/03/12/20200312_020757.865&amp;format=&amp;area=JP\" target=\"_blank\">20200312_020757.865</a>\n",
      "-1\n",
      "<a href=\"/cgi-bin/search_latest.cgi?path=/stock1m/400220382/2020/03/12/20200312_021258.296&amp;format=&amp;area=JP\" target=\"_blank\">20200312_021258.296</a>\n",
      "-1\n"
     ]
    }
   ],
   "source": [
    "for tr in tbody.children:\n",
    "    print(tr.find('a'))"
   ]
  },
  {
   "cell_type": "code",
   "execution_count": 16,
   "metadata": {},
   "outputs": [],
   "source": [
    "file_list = [a.string for a in soup.find_all(target = '_blank')]"
   ]
  },
  {
   "cell_type": "code",
   "execution_count": 17,
   "metadata": {},
   "outputs": [],
   "source": [
    "file_list.sort()"
   ]
  },
  {
   "cell_type": "code",
   "execution_count": 18,
   "metadata": {
    "scrolled": true
   },
   "outputs": [
    {
     "data": {
      "text/plain": [
       "['20200312_000256.202',\n",
       " '20200312_000757.606',\n",
       " '20200312_001258.212',\n",
       " '20200312_001758.767',\n",
       " '20200312_002302.122',\n",
       " '20200312_002802.657',\n",
       " '20200312_003348.152',\n",
       " '20200312_003758.776',\n",
       " '20200312_004300.161',\n",
       " '20200312_004758.807',\n",
       " '20200312_005255.919',\n",
       " '20200312_005756.757',\n",
       " '20200312_010258.156',\n",
       " '20200312_010758.984',\n",
       " '20200312_011300.799',\n",
       " '20200312_011758.461',\n",
       " '20200312_012300.642',\n",
       " '20200312_012758.707',\n",
       " '20200312_013301.268',\n",
       " '20200312_013759.706',\n",
       " '20200312_014256.294',\n",
       " '20200312_014804.127',\n",
       " '20200312_015255.244',\n",
       " '20200312_015753.658',\n",
       " '20200312_020258.981',\n",
       " '20200312_020757.865',\n",
       " '20200312_021258.296']"
      ]
     },
     "execution_count": 18,
     "metadata": {},
     "output_type": "execute_result"
    }
   ],
   "source": [
    "file_list"
   ]
  },
  {
   "cell_type": "markdown",
   "metadata": {},
   "source": [
    "# jma radar 401300210"
   ]
  },
  {
   "cell_type": "code",
   "execution_count": 19,
   "metadata": {},
   "outputs": [],
   "source": [
    "base_page = \"http://stock1.wni.co.jp/stock/401300210/0000300100200012\"\n",
    "base_URL = \"http://stock1.wni.co.jp/stock/401300210/0000300100200012\"\n",
    "base_goal = \"/Users/jiang/data/jma_radar\"\n",
    "\n",
    "page_URL = os.path.join(base_page,dt.strftime(\"%Y/%m/%d\"))\n",
    "source_folder = os.path.join(base_URL,dt.strftime(\"%Y/%m/%d\"))\n",
    "with urllib.request.urlopen(page_URL) as response:\n",
    "\thtml = response.read()"
   ]
  },
  {
   "cell_type": "code",
   "execution_count": 22,
   "metadata": {},
   "outputs": [],
   "source": [
    "soup = BeautifulSoup(html, 'html.parser')\n",
    "#file_list = [a.string for a in soup.find_all(target = '_blank')]\n",
    "#file_list.sort()\n",
    "#print(file_list)"
   ]
  },
  {
   "cell_type": "code",
   "execution_count": 37,
   "metadata": {
    "scrolled": false
   },
   "outputs": [],
   "source": [
    "strhtm = soup.prettify()\n",
    "#print(strhtm)"
   ]
  },
  {
   "cell_type": "code",
   "execution_count": 31,
   "metadata": {},
   "outputs": [],
   "source": [
    "file_list = [a.string for a in soup.find_all('a') if \".000\" in a.string]"
   ]
  },
  {
   "cell_type": "code",
   "execution_count": 32,
   "metadata": {
    "scrolled": true
   },
   "outputs": [
    {
     "data": {
      "text/plain": [
       "['20200312_000000.000',\n",
       " '20200312_000500.000',\n",
       " '20200312_001000.000',\n",
       " '20200312_001500.000',\n",
       " '20200312_002000.000',\n",
       " '20200312_002500.000',\n",
       " '20200312_003000.000',\n",
       " '20200312_003500.000',\n",
       " '20200312_004000.000',\n",
       " '20200312_004500.000',\n",
       " '20200312_005000.000',\n",
       " '20200312_005500.000',\n",
       " '20200312_010000.000',\n",
       " '20200312_010500.000',\n",
       " '20200312_011000.000',\n",
       " '20200312_011500.000',\n",
       " '20200312_012000.000',\n",
       " '20200312_012500.000',\n",
       " '20200312_013000.000',\n",
       " '20200312_013500.000',\n",
       " '20200312_014000.000',\n",
       " '20200312_014500.000',\n",
       " '20200312_015000.000',\n",
       " '20200312_015500.000',\n",
       " '20200312_020000.000',\n",
       " '20200312_020500.000',\n",
       " '20200312_021000.000',\n",
       " '20200312_021500.000']"
      ]
     },
     "execution_count": 32,
     "metadata": {},
     "output_type": "execute_result"
    }
   ],
   "source": [
    "file_list.sort()\n",
    "file_list"
   ]
  },
  {
   "cell_type": "code",
   "execution_count": 33,
   "metadata": {},
   "outputs": [
    {
     "data": {
      "text/plain": [
       "'20200312_021500.000'"
      ]
     },
     "execution_count": 33,
     "metadata": {},
     "output_type": "execute_result"
    }
   ],
   "source": [
    "file_list[-1]"
   ]
  },
  {
   "cell_type": "code",
   "execution_count": null,
   "metadata": {},
   "outputs": [],
   "source": []
  }
 ],
 "metadata": {
  "kernelspec": {
   "display_name": "Python 3",
   "language": "python",
   "name": "python3"
  },
  "language_info": {
   "codemirror_mode": {
    "name": "ipython",
    "version": 3
   },
   "file_extension": ".py",
   "mimetype": "text/x-python",
   "name": "python",
   "nbconvert_exporter": "python",
   "pygments_lexer": "ipython3",
   "version": "3.7.6"
  }
 },
 "nbformat": 4,
 "nbformat_minor": 2
}
