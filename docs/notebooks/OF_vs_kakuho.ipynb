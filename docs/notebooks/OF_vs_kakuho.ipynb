{
 "cells": [
  {
   "cell_type": "code",
   "execution_count": 1,
   "metadata": {},
   "outputs": [
    {
     "name": "stdout",
     "output_type": "stream",
     "text": [
      "/Users/jiang/github_all/rainymotion/docs/notebooks\n"
     ]
    }
   ],
   "source": [
    "from rainymotion import models, metrics, utils\n",
    "import glob\n",
    "import numpy as np\n",
    "import matplotlib.pyplot as plt\n",
    "%matplotlib inline\n",
    "from datetime import datetime,timedelta\n",
    "import calendar\n",
    "from netCDF4 import Dataset\n",
    "import joblib\n",
    "import os\n",
    "print(os.getcwd())"
   ]
  },
  {
   "cell_type": "code",
   "execution_count": 2,
   "metadata": {},
   "outputs": [],
   "source": [
    "kakuho_folder = \"/Users/jiang/data/rain_kakuho\"\n",
    "radar_folder = \"/Users/jiang/data/jma_radar\""
   ]
  },
  {
   "cell_type": "code",
   "execution_count": 9,
   "metadata": {},
   "outputs": [],
   "source": [
    "time_step = 5 * 60 # seconds\n",
    "threshold = 0.1  # mm/h\n",
    "lead_time = list(range(0,65,5))\n",
    "\n",
    "for j in range(0,24):\n",
    "    dt_now = datetime(2020,1,28,j,0)\n",
    "    dt_pre = dt_now - timedelta(seconds = time_step)\n",
    "    dt_12  = dt_now + timedelta(seconds = time_step * 12)\n",
    "    yday_pre = dt_pre.strftime('%Y_%m_%d')\n",
    "    yday_now = dt_now.strftime('%Y_%m_%d')\n",
    "    yday_12  = dt_12.strftime('%Y_%m_%d')\n",
    "\n",
    "    # load ground truth data\n",
    "    daily_database = {}\n",
    "    inputs = np.zeros(shape = (2,1000,1000), dtype = np.float16)\n",
    "    if yday_pre not in daily_database:\n",
    "        daily_database[yday_pre] = joblib.load(os.path.join(radar_folder, \n",
    "                                                            f\"jma_radar_uint8_{yday_pre}.joblib\")) \n",
    "    if yday_12 not in daily_database:\n",
    "        daily_database[yday_12]  = joblib.load(os.path.join(radar_folder,\n",
    "                                                            f\"jma_radar_uint8_{yday_12}.joblib\")) \n",
    "    # load data into optical flow model\n",
    "    sequence_in_day = int(dt_pre.hour*12 + (dt_pre.minute)/5)    \n",
    "    inputs[0,:,:] = daily_database[yday_pre][sequence_in_day]/10.0\n",
    "    inputs[1,:,:] = daily_database[yday_now][(sequence_in_day + 1)%288]/10.0  \n",
    "    model = models.Dense()    \n",
    "    model.input_data = inputs\n",
    "    model.lead_steps = 13\n",
    "    nowcast = model.run()  # shape (13, 1000, 1000)\n",
    "\n",
    "    # load kakuho data from wgrib2 file\n",
    "    grib_file = dt_now.strftime('%Y%m%d_%H%M00.000')\n",
    "    source_folder = os.path.join(kakuho_folder, dt_now.strftime(\"%Y/%m/%d\"))\n",
    "    source_path = os.path.join(source_folder, grib_file)\n",
    "    nc_file = source_path + \".nc\"\n",
    "    varlist = [\":{} min\".format(i) for i in range(5,65,5)]\n",
    "    var = '|'.join(varlist)\n",
    "    cmd = \"wgrib2 {0} -s | egrep '({1})'|wgrib2 -i {0} -netcdf {2}\".format(source_path, var, nc_file)\n",
    "    fail = os.system(cmd)  # 0 indicate success, others indicate fail\n",
    "    if fail:\n",
    "        print(\"wgrib2 wrong at \", grib_file)\n",
    "        continue\n",
    "\n",
    "    root = Dataset(nc_file, \"r\")        \n",
    "    # delete nc                     \n",
    "    os.system(f\"rm -r {nc_file}\") \n",
    "\n",
    "    of_13_th = []  # threat score\n",
    "    ka_13_th = [1]\n",
    "    per_13_th = [1]\n",
    "    coverage_13 = []\n",
    "    for i in range (13):\n",
    "        dt_fcst = dt_now + timedelta(seconds = time_step * i)\n",
    "        yday_fcst = dt_fcst.strftime('%Y_%m_%d')\n",
    "        sequence = int(dt_fcst.hour*12 + (dt_fcst.minute)/5)   \n",
    "        ground_truth =  daily_database[yday_fcst][sequence]/10.0\n",
    "        of_13_th.append(metrics.CSI(ground_truth, nowcast[i], threshold = threshold))\n",
    "        coverage = np.sum(ground_truth >= threshold)/(1e6 - 132396)*100\n",
    "        coverage_13.append(coverage)\n",
    "        if i ==0:\n",
    "            ground_truth0 = ground_truth\n",
    "        if i >=1:\n",
    "            rain_reduced = root['APCP_surface'][i-1,1500:2500,1000:2000]\n",
    "            rain_reduced.fill_value = 0.0\n",
    "            rain_filled = rain_reduced.filled().astype('float16') * 6 # mm/10 min to mm/h\n",
    "            ka_13_th.append(metrics.CSI(ground_truth, rain_filled, threshold = threshold))\n",
    "            per_13_th.append(metrics.CSI(ground_truth, ground_truth0, threshold = threshold))\n",
    "    plt.figure(dpi=75)\n",
    "    plt.plot(lead_time, of_13_th,'o-',label = \"Optical Flow (rainymotion-dense)\")\n",
    "    plt.plot(lead_time, ka_13_th,'s-',label = \"Kakuho\")\n",
    "    plt.plot(lead_time, per_13_th,'*-',label = \"Persistence\")\n",
    "    plt.legend()\n",
    "    plt.ylim([0,1])\n",
    "    plt.grid()\n",
    "    plt.ylabel(\"threat score\")\n",
    "    plt.xlabel(\"minutes after now\")\n",
    "    plt.title(f\"now = {dt_now.strftime('%Y-%m-%d %H:%M')}, rain coverage = {coverage:.1f} %\")\n",
    "    plt.savefig(f\"OFvsKakuho_{dt_now.strftime('%Y%m%d_%H%M')}.png\",format = \"png\",bbox_inches='tight') \n",
    "    plt.close()"
   ]
  },
  {
   "cell_type": "code",
   "execution_count": 10,
   "metadata": {},
   "outputs": [
    {
     "name": "stdout",
     "output_type": "stream",
     "text": [
      "24\n"
     ]
    }
   ],
   "source": [
    "import imageio\n",
    "png_files = glob.glob(\"./OFvsKakuho*.png\")\n",
    "png_files.sort()\n",
    "print(len(png_files)) # 288\n",
    "\n",
    "images = []\n",
    "for filename in png_files:\n",
    "    images.append(imageio.imread(filename))\n",
    "    os.system(f\"rm -r {filename}\")\n",
    "output_file = f'OFvsKakuho-{yday_now}.gif'\n",
    "imageio.mimsave(output_file, images,duration = 1)  # unit is in seconds"
   ]
  },
  {
   "cell_type": "code",
   "execution_count": 1,
   "metadata": {},
   "outputs": [],
   "source": [
    "import numpy as np"
   ]
  },
  {
   "cell_type": "code",
   "execution_count": 2,
   "metadata": {},
   "outputs": [],
   "source": [
    "X = np.random.normal(size=(10, 3))"
   ]
  },
  {
   "cell_type": "code",
   "execution_count": 3,
   "metadata": {},
   "outputs": [
    {
     "data": {
      "text/plain": [
       "<generator object <genexpr> at 0x10ac4bb30>"
      ]
     },
     "execution_count": 3,
     "metadata": {},
     "output_type": "execute_result"
    }
   ],
   "source": [
    "(X[i,:] for i in range(10))"
   ]
  },
  {
   "cell_type": "code",
   "execution_count": null,
   "metadata": {},
   "outputs": [],
   "source": []
  }
 ],
 "metadata": {
  "kernelspec": {
   "display_name": "Python 3",
   "language": "python",
   "name": "python3"
  },
  "language_info": {
   "codemirror_mode": {
    "name": "ipython",
    "version": 3
   },
   "file_extension": ".py",
   "mimetype": "text/x-python",
   "name": "python",
   "nbconvert_exporter": "python",
   "pygments_lexer": "ipython3",
   "version": "3.7.6"
  }
 },
 "nbformat": 4,
 "nbformat_minor": 2
}
