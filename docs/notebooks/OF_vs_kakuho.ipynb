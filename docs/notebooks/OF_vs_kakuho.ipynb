{
 "cells": [
  {
   "cell_type": "code",
   "execution_count": 10,
   "metadata": {},
   "outputs": [
    {
     "name": "stdout",
     "output_type": "stream",
     "text": [
      "/Users/jiang/github_all/rainymotion/docs/notebooks\n"
     ]
    }
   ],
   "source": [
    "from rainymotion import models, metrics, utils\n",
    "import glob\n",
    "import numpy as np\n",
    "import matplotlib.pyplot as plt\n",
    "%matplotlib inline\n",
    "\n",
    "from datetime import datetime,timedelta\n",
    "import calendar\n",
    "from netCDF4 import Dataset\n",
    "import joblib\n",
    "import os\n",
    "print(os.getcwd())\n"
   ]
  },
  {
   "cell_type": "code",
   "execution_count": 11,
   "metadata": {},
   "outputs": [],
   "source": [
    "kakuho_folder = \"/Users/jiang/data/rain_kakuho\"\n",
    "radar_folder = \"/Users/jiang/data/jma_radar\""
   ]
  },
  {
   "cell_type": "code",
   "execution_count": 77,
   "metadata": {},
   "outputs": [
    {
     "name": "stdout",
     "output_type": "stream",
     "text": [
      "wgrib2 wrong at  20200122_050000.000\n",
      "wgrib2 wrong at  20200122_060000.000\n",
      "wgrib2 wrong at  20200122_070000.000\n",
      "wgrib2 wrong at  20200122_080000.000\n",
      "wgrib2 wrong at  20200122_090000.000\n",
      "wgrib2 wrong at  20200122_100000.000\n",
      "wgrib2 wrong at  20200122_110000.000\n",
      "wgrib2 wrong at  20200122_120000.000\n",
      "wgrib2 wrong at  20200122_130000.000\n",
      "wgrib2 wrong at  20200122_140000.000\n",
      "wgrib2 wrong at  20200122_150000.000\n",
      "wgrib2 wrong at  20200122_160000.000\n",
      "wgrib2 wrong at  20200122_170000.000\n",
      "wgrib2 wrong at  20200122_180000.000\n",
      "wgrib2 wrong at  20200122_190000.000\n",
      "wgrib2 wrong at  20200122_200000.000\n",
      "wgrib2 wrong at  20200122_210000.000\n",
      "wgrib2 wrong at  20200122_220000.000\n"
     ]
    },
    {
     "ename": "FileNotFoundError",
     "evalue": "[Errno 2] No such file or directory: '/Users/jiang/data/jma_radar/jma_radar_uint8_2020_01_23.joblib'",
     "output_type": "error",
     "traceback": [
      "\u001b[0;31m---------------------------------------------------------------------------\u001b[0m",
      "\u001b[0;31mFileNotFoundError\u001b[0m                         Traceback (most recent call last)",
      "\u001b[0;32m<ipython-input-77-0ef496b2cc79>\u001b[0m in \u001b[0;36m<module>\u001b[0;34m\u001b[0m\n\u001b[1;32m     18\u001b[0m                                                             f\"jma_radar_uint8_{yday_pre}.joblib\")) \n\u001b[1;32m     19\u001b[0m     \u001b[0;32mif\u001b[0m \u001b[0myday_12\u001b[0m \u001b[0;32mnot\u001b[0m \u001b[0;32min\u001b[0m \u001b[0mdaily_database\u001b[0m\u001b[0;34m:\u001b[0m\u001b[0;34m\u001b[0m\u001b[0;34m\u001b[0m\u001b[0m\n\u001b[0;32m---> 20\u001b[0;31m         daily_database[yday_12]  = joblib.load(os.path.join(radar_folder,\n\u001b[0m\u001b[1;32m     21\u001b[0m                                                             f\"jma_radar_uint8_{yday_12}.joblib\")) \n\u001b[1;32m     22\u001b[0m     \u001b[0;31m# load data into optical flow model\u001b[0m\u001b[0;34m\u001b[0m\u001b[0;34m\u001b[0m\u001b[0;34m\u001b[0m\u001b[0m\n",
      "\u001b[0;32m~/anaconda3/envs/rainymotion/lib/python3.8/site-packages/joblib/numpy_pickle.py\u001b[0m in \u001b[0;36mload\u001b[0;34m(filename, mmap_mode)\u001b[0m\n\u001b[1;32m    595\u001b[0m             \u001b[0mobj\u001b[0m \u001b[0;34m=\u001b[0m \u001b[0m_unpickle\u001b[0m\u001b[0;34m(\u001b[0m\u001b[0mfobj\u001b[0m\u001b[0;34m)\u001b[0m\u001b[0;34m\u001b[0m\u001b[0;34m\u001b[0m\u001b[0m\n\u001b[1;32m    596\u001b[0m     \u001b[0;32melse\u001b[0m\u001b[0;34m:\u001b[0m\u001b[0;34m\u001b[0m\u001b[0;34m\u001b[0m\u001b[0m\n\u001b[0;32m--> 597\u001b[0;31m         \u001b[0;32mwith\u001b[0m \u001b[0mopen\u001b[0m\u001b[0;34m(\u001b[0m\u001b[0mfilename\u001b[0m\u001b[0;34m,\u001b[0m \u001b[0;34m'rb'\u001b[0m\u001b[0;34m)\u001b[0m \u001b[0;32mas\u001b[0m \u001b[0mf\u001b[0m\u001b[0;34m:\u001b[0m\u001b[0;34m\u001b[0m\u001b[0;34m\u001b[0m\u001b[0m\n\u001b[0m\u001b[1;32m    598\u001b[0m             \u001b[0;32mwith\u001b[0m \u001b[0m_read_fileobject\u001b[0m\u001b[0;34m(\u001b[0m\u001b[0mf\u001b[0m\u001b[0;34m,\u001b[0m \u001b[0mfilename\u001b[0m\u001b[0;34m,\u001b[0m \u001b[0mmmap_mode\u001b[0m\u001b[0;34m)\u001b[0m \u001b[0;32mas\u001b[0m \u001b[0mfobj\u001b[0m\u001b[0;34m:\u001b[0m\u001b[0;34m\u001b[0m\u001b[0;34m\u001b[0m\u001b[0m\n\u001b[1;32m    599\u001b[0m                 \u001b[0;32mif\u001b[0m \u001b[0misinstance\u001b[0m\u001b[0;34m(\u001b[0m\u001b[0mfobj\u001b[0m\u001b[0;34m,\u001b[0m \u001b[0m_basestring\u001b[0m\u001b[0;34m)\u001b[0m\u001b[0;34m:\u001b[0m\u001b[0;34m\u001b[0m\u001b[0;34m\u001b[0m\u001b[0m\n",
      "\u001b[0;31mFileNotFoundError\u001b[0m: [Errno 2] No such file or directory: '/Users/jiang/data/jma_radar/jma_radar_uint8_2020_01_23.joblib'"
     ]
    }
   ],
   "source": [
    "time_step = 5 * 60 # seconds\n",
    "threshold = 0.1  # mm/h\n",
    "lead_time = list(range(0,65,5))\n",
    "\n",
    "for j in range(0,24):\n",
    "    dt_now = datetime(2020,1,22,j,0)\n",
    "    dt_pre = dt_now - timedelta(seconds = time_step)\n",
    "    dt_12  = dt_now + timedelta(seconds = time_step * 12)\n",
    "    yday_pre = dt_pre.strftime('%Y_%m_%d')\n",
    "    yday_now = dt_now.strftime('%Y_%m_%d')\n",
    "    yday_12  = dt_12.strftime('%Y_%m_%d')\n",
    "\n",
    "    # load ground truth data\n",
    "    daily_database = {}\n",
    "    inputs = np.zeros(shape = (2,1000,1000), dtype = np.float16)\n",
    "    if yday_pre not in daily_database:\n",
    "        daily_database[yday_pre] = joblib.load(os.path.join(radar_folder, \n",
    "                                                            f\"jma_radar_uint8_{yday_pre}.joblib\")) \n",
    "    if yday_12 not in daily_database:\n",
    "        daily_database[yday_12]  = joblib.load(os.path.join(radar_folder,\n",
    "                                                            f\"jma_radar_uint8_{yday_12}.joblib\")) \n",
    "    # load data into optical flow model\n",
    "    sequence_in_day = int(dt_pre.hour*12 + (dt_pre.minute)/5)    \n",
    "    inputs[0,:,:] = daily_database[yday_pre][sequence_in_day]/10.0\n",
    "    inputs[1,:,:] = daily_database[yday_now][(sequence_in_day + 1)%288]/10.0  \n",
    "    model = models.Dense()    \n",
    "    model.input_data = inputs\n",
    "    model.lead_steps = 13\n",
    "    nowcast = model.run()  # shape (13, 1000, 1000)\n",
    "\n",
    "    # load kakuho data from wgrib2 file\n",
    "    grib_file = dt_now.strftime('%Y%m%d_%H%M00.000')\n",
    "    source_folder = os.path.join(kakuho_folder, dt_now.strftime(\"%Y/%m/%d\"))\n",
    "    source_path = os.path.join(source_folder, grib_file)\n",
    "    nc_file = source_path + \".nc\"\n",
    "    varlist = [\":{} min\".format(i) for i in range(5,65,5)]\n",
    "    var = '|'.join(varlist)\n",
    "    cmd = \"wgrib2 {0} -s | egrep '({1})'|wgrib2 -i {0} -netcdf {2}\".format(source_path, var, nc_file)\n",
    "    fail = os.system(cmd)  # 0 indicate success, others indicate fail\n",
    "    if fail:\n",
    "        print(\"wgrib2 wrong at \", grib_file)\n",
    "        continue\n",
    "\n",
    "    root = Dataset(nc_file, \"r\")        \n",
    "    # delete nc                     \n",
    "    os.system(f\"rm -r {nc_file}\") \n",
    "\n",
    "    of_13_th = []  # threat score\n",
    "    ka_13_th = [1]\n",
    "    coverage_13 = []\n",
    "    for i in range (13):\n",
    "        dt_fcst = dt_now + timedelta(seconds = time_step * i)\n",
    "        yday_fcst = dt_fcst.strftime('%Y_%m_%d')\n",
    "        sequence = int(dt_fcst.hour*12 + (dt_fcst.minute)/5)   \n",
    "        ground_truth =  daily_database[yday_fcst][sequence]/10.0\n",
    "        of_13_th.append(metrics.CSI(ground_truth, nowcast[i], threshold = threshold))\n",
    "        coverage = np.sum(ground_truth >= threshold)/(1e6 - 132396)*100\n",
    "        coverage_13.append(coverage)\n",
    "        if i >=1:\n",
    "            rain_reduced = root['APCP_surface'][i-1,1500:2500,1000:2000]\n",
    "            rain_reduced.fill_value = 0.0\n",
    "            rain_filled = rain_reduced.filled().astype('float16')*6\n",
    "            ka_13_th.append(metrics.CSI(ground_truth, rain_filled, threshold = threshold))\n",
    "    plt.figure(dpi=75)\n",
    "    plt.plot(lead_time, of_13_th,'o-',label = \"Optical Flow (rainymotion-dense)\")\n",
    "    plt.plot(lead_time, ka_13_th,'s-',label = \"Kakuho\")\n",
    "    plt.legend()\n",
    "    plt.ylim([0,1])\n",
    "    plt.grid()\n",
    "    plt.ylabel(\"threat score\")\n",
    "    plt.xlabel(\"minutes after now\")\n",
    "    plt.title(f\"now = {dt_now.strftime('%Y-%m-%d %H:%M')}, rain coverage = {coverage:.1f} %\")\n",
    "    plt.savefig(f\"OFvsKakuho_{dt_now.strftime('%Y%m%d_%H%M')}.png\",format = \"png\",bbox_inches='tight') \n",
    "    plt.close()"
   ]
  },
  {
   "cell_type": "code",
   "execution_count": 74,
   "metadata": {},
   "outputs": [
    {
     "name": "stdout",
     "output_type": "stream",
     "text": [
      "16\n"
     ]
    }
   ],
   "source": [
    "import imageio\n",
    "png_files = glob.glob(\"./OFvsKakuho*.png\")\n",
    "png_files.sort()\n",
    "print(len(png_files)) # 288\n",
    "\n",
    "images = []\n",
    "for filename in png_files:\n",
    "    images.append(imageio.imread(filename))\n",
    "    os.system(f\"rm -r {filename}\")\n",
    "output_file = f'OFvsKakuho-{yday_now}.gif'\n",
    "imageio.mimsave(output_file, images,duration = 1)  # unit is in seconds"
   ]
  },
  {
   "cell_type": "code",
   "execution_count": null,
   "metadata": {},
   "outputs": [
    {
     "name": "stdout",
     "output_type": "stream",
     "text": [
      "not exist:http://stock1.wni.co.jp/stock_hdd/411024220/0200600011024220/2020/01/22/20200122_065000.000\n"
     ]
    }
   ],
   "source": [
    "# for download kakuho data or jma radar data\n",
    "# source and goal folder should exist\n",
    "from datetime import datetime,timedelta\n",
    "import os\n",
    "import urllib\n",
    "\n",
    "# rain kakuho\n",
    "base_URL  = \"http://stock1.wni.co.jp/stock_hdd/411024220/0200600011024220\"\n",
    "base_goal = \"/Users/jiang/data/rain_kakuho\"\n",
    "\n",
    "dt =     datetime(2020,1,22, 4,55)  # not included\n",
    "dt_end = datetime(2020,1,23, 5,55)  # included\n",
    "time_step = 5 * 60 # seconds\n",
    "while dt < dt_end:\n",
    "    dt += timedelta(seconds = time_step)\n",
    "    file_string = dt.strftime('%Y%m%d_%H%M00.000')\n",
    "    source_folder = os.path.join(base_URL, dt.strftime(\"%Y/%m/%d\"))\n",
    "    goal_folder = os.path.join(base_goal, dt.strftime(\"%Y/%m/%d\"))\n",
    "    # from pathlib import Path\n",
    "    # Path(\"/my/directory\").mkdir(parents=True, exist_ok=True)\n",
    "    if not os.path.exists(goal_folder):\n",
    "        os.makedirs(goal_folder)\n",
    "\n",
    "    source_path = os.path.join(source_folder, file_string)\n",
    "    goal_path = os.path.join(goal_folder, file_string)\n",
    "    if os.path.isfile(goal_path):\n",
    "        continue\n",
    "    try: \n",
    "        urllib.request.urlretrieve(source_path)\n",
    "    except: \n",
    "        print(f\"not exist:{source_path}\")\n",
    "        continue\n"
   ]
  },
  {
   "cell_type": "code",
   "execution_count": null,
   "metadata": {},
   "outputs": [],
   "source": []
  }
 ],
 "metadata": {
  "kernelspec": {
   "display_name": "Python [conda env:rainymotion] *",
   "language": "python",
   "name": "conda-env-rainymotion-py"
  },
  "language_info": {
   "codemirror_mode": {
    "name": "ipython",
    "version": 3
   },
   "file_extension": ".py",
   "mimetype": "text/x-python",
   "name": "python",
   "nbconvert_exporter": "python",
   "pygments_lexer": "ipython3",
   "version": "3.8.0"
  }
 },
 "nbformat": 4,
 "nbformat_minor": 2
}
