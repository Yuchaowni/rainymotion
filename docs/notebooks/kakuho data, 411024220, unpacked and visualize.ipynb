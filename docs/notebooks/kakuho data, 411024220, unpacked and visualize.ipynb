{
 "cells": [
  {
   "cell_type": "code",
   "execution_count": 2,
   "metadata": {},
   "outputs": [
    {
     "name": "stdout",
     "output_type": "stream",
     "text": [
      "/Users/jiang/github_all/rainymotion/docs/notebooks\n"
     ]
    }
   ],
   "source": [
    "import glob\n",
    "import numpy as np\n",
    "import matplotlib.pyplot as plt\n",
    "%matplotlib inline\n",
    "import os\n",
    "print(os.getcwd())\n",
    "\n",
    "data_folder = \"/Users/jiang/data/rain_kakuho\"\n",
    "grib_files = glob.glob(os.path.join(data_folder,\"*.000\"))  # 288 = 12*24\n",
    "grib_files.sort()"
   ]
  },
  {
   "cell_type": "code",
   "execution_count": 3,
   "metadata": {},
   "outputs": [
    {
     "data": {
      "text/plain": [
       "[]"
      ]
     },
     "execution_count": 3,
     "metadata": {},
     "output_type": "execute_result"
    }
   ],
   "source": [
    "grib_files"
   ]
  },
  {
   "cell_type": "markdown",
   "metadata": {},
   "source": [
    "### convert wgrib2 file into nc file"
   ]
  },
  {
   "cell_type": "code",
   "execution_count": 6,
   "metadata": {},
   "outputs": [],
   "source": [
    "varlist = [\":{} min\".format(i) for i in range(5,185,5)]  # create a varaible list from 5 to 180 min\n",
    "var = '|'.join(varlist)\n",
    "for grib_file in grib_files:\n",
    "    cmd = \"wgrib2 {0} -s | egrep '({1})'|wgrib2 -i {0} -netcdf {2}\".format(grib_file, var, grib_file +\".nc\")\n",
    "    fail = os.system(cmd)  # 0 indicate success, others indicate fail\n",
    "    if fail:\n",
    "        print(\"wgrib2 wrong at \", grib_file)"
   ]
  },
  {
   "cell_type": "code",
   "execution_count": 22,
   "metadata": {},
   "outputs": [
    {
     "name": "stdout",
     "output_type": "stream",
     "text": [
      "2020-01-08 08:25 UTC \n"
     ]
    }
   ],
   "source": [
    "from netCDF4 import Dataset\n",
    "nc_file = grib_files[0] +\".nc\"\n",
    "root = Dataset(nc_file, \"r\")\n",
    "\n",
    "from datetime import datetime,timedelta\n",
    "dt = datetime(1970, 1, 1) + timedelta(seconds = root['time'][0].compressed()[0])\n",
    "date_string = dt.strftime('%Y-%m-%d %H:%M UTC ')\n",
    "print(date_string)"
   ]
  },
  {
   "cell_type": "code",
   "execution_count": 24,
   "metadata": {},
   "outputs": [],
   "source": [
    "root['APCP_surface'].shape  # shape (36, 3360, 2560)\n",
    "rain = root['APCP_surface'][0,:,:]\n",
    "rain_reduced = rain[1500:2500,1000:2000].copy()\n",
    "rain_reduced.fill_value = 0.0\n",
    "rain_filled = rain_reduced.filled().astype('float16')"
   ]
  },
  {
   "cell_type": "code",
   "execution_count": 21,
   "metadata": {},
   "outputs": [
    {
     "data": {
      "image/png": "[encoded data removed]",
      "text/plain": [
       "<Figure size 432x288 with 1 Axes>"
      ]
     },
     "metadata": {
      "needs_background": "light"
     },
     "output_type": "display_data"
    }
   ],
   "source": [
    "plt.hist(rain_filled.ravel(),256)\n",
    "plt.yscale('log')"
   ]
  },
  {
   "cell_type": "markdown",
   "metadata": {},
   "source": [
    "## visualize kakuho image data"
   ]
  },
  {
   "cell_type": "code",
   "execution_count": 15,
   "metadata": {},
   "outputs": [],
   "source": [
    "from datetime import datetime,timedelta\n",
    "import joblib\n",
    "from netCDF4 import Dataset\n",
    "from rainymotion import models, metrics, utils\n",
    "\n",
    "kakuho_folder = \"/Users/jiang/data/rain_kakuho\"\n",
    "radar_folder = \"/Users/jiang/data/jma_radar\"\n",
    "\n",
    "time_step = 5 * 60 # seconds\n",
    "threshold = 0.1  # mm/h\n",
    "dt_now = datetime(2020,1,23,0,0)\n",
    "dt_pre = dt_now - timedelta(seconds = time_step)\n",
    "dt_12  = dt_now + timedelta(seconds = time_step * 12)\n",
    "yday_pre = dt_pre.strftime('%Y_%m_%d')\n",
    "yday_now = dt_now.strftime('%Y_%m_%d')\n",
    "yday_12  = dt_12.strftime('%Y_%m_%d')\n",
    "    \n",
    "hh = str(dt_now.hour).zfill(2) \n",
    "mm = str(dt_now.minute).zfill(2)\n",
    "\n",
    "daily_database = {}\n",
    "inputs = np.zeros(shape = (2,1000,1000), dtype = np.float16)\n",
    "if yday_str not in daily_database:\n",
    "    daily_database[yday_str] = joblib.load(os.path.join(radar_folder, \n",
    "                                                        f\"jma_radar_uint8_{yday_str}.joblib\")) \n",
    "if yday_12 not in daily_database:\n",
    "    daily_database[yday_12]  = joblib.load(os.path.join(radar_folder,\n",
    "                                                        f\"jma_radar_uint8_{yday_12}.joblib\")) \n",
    "\n",
    "sequence_in_day = int(dt.hour*12 + (dt.minute)/5)    \n",
    "#inputs[0,:,:] = daily_database[yday_str][sequence_in_day]/10.0\n",
    "#inputs[1,:,:] = daily_database[yday_now][(sequence_in_day+1)%288]/10.0\n",
    "    \n",
    "#model = models.Dense()    \n",
    "#model.input_data = inputs\n",
    "#model.lead_steps = 13\n",
    "#nowcast = model.run()  # shape (13, 1000, 1000)\n",
    "#dense_13_th = []  # threat score\n",
    "\n",
    "# load kakuho data from wgrib2 file\n",
    "grib_file = dt_now.strftime('%Y%m%d_%H%M00.000')\n",
    "source_folder = os.path.join(kakuho_folder, dt_now.strftime(\"%Y/%m/%d\"))\n",
    "source_path = os.path.join(source_folder, grib_file)\n",
    "nc_file = source_path + \".nc\"\n",
    "varlist = [\":{} min\".format(i) for i in range(5,65,5)]\n",
    "var = '|'.join(varlist)\n",
    "cmd = \"wgrib2 {0} -s | egrep '({1})'|wgrib2 -i {0} -netcdf {2}\".format(source_path, var, nc_file)\n",
    "fail = os.system(cmd)  # 0 indicate success, others indicate fail\n",
    "if fail:\n",
    "    print(\"wgrib2 wrong at \", grib_file)\n",
    "\n",
    "root = Dataset(nc_file, \"r\")        \n",
    "# delete nc                     \n",
    "os.system(f\"rm -r {nc_file}\") \n",
    "\n",
    "for i in range (1,13):\n",
    "    dt_predit = dt_now + timedelta(seconds = time_step * i)\n",
    "    yday_pre = dt_predit.strftime('%Y_%m_%d')\n",
    "    sequence = int(dt_predit.hour*12 + (dt_predit.minute)/5)   \n",
    "    ground_truth =  daily_database[yday_pre][sequence]/10.0\n",
    "    \n",
    "    rain_reduced = root['APCP_surface'][i-1,1500:2500,1000:2000]\n",
    "    rain_reduced.fill_value = 0.0\n",
    "    rain_filled = rain_reduced.filled().astype('float16') * 6 # mm/10 min to mm/h\n",
    "            \n",
    "    hits, misses, falsealarms, _ = metrics.prep_clf(ground_truth,rain_filled, threshold = threshold)\n",
    "\n",
    "    threat =  hits / (hits + misses + falsealarms)\n",
    "    recall =  hits / (hits + misses)\n",
    "    precision = hits / (hits + falsealarms)\n",
    "    \n",
    "    plt.figure(dpi = 100)\n",
    "    \n",
    "    image1 = ground_truth\n",
    "    image2 = rain_filled\n",
    "    plt.imshow(np.log(image1 + 0.01),cmap = 'Reds',origin = \"lower\")\n",
    "    plt.imshow(np.log(image2 + 0.01).astype('float32'),cmap = 'Blues',origin = \"lower\",alpha = 0.5)\n",
    "    plt.title(f\"now = {yday_now}-{hh}:{mm} UTC,+{str(i*5).zfill(2)}min\")\n",
    "    plt.text(20, 950, f\"rainy pixels = {np.sum(image1 >= threshold)/(1e6 - 132396) *100 :.1f} %\")\n",
    "    plt.text(20, 900, f\"threshold = {threshold} mm/h\")\n",
    "    plt.text(20, 850, f\"threat = {threat:.2f}\")\n",
    "    plt.text(20, 800, f\"recall = {recall:.2f}\")\n",
    "    plt.text(20, 750, f\"precision = {precision:.2f}\")\n",
    "    plt.text(20, 700, \"Truth(Reds)\",color = \"red\")\n",
    "    plt.text(20, 650, \"Kakuho(Blues)\",color = \"blue\")\n",
    "    plt.grid()\n",
    "    plt.tight_layout(h_pad=0.5)\n",
    "    plt.savefig(\"JMA_kakuho_image_score\" + str(i).zfill(2) + \".png\",format = \"png\",bbox_inches='tight')\n",
    "    plt.close()"
   ]
  },
  {
   "cell_type": "code",
   "execution_count": 16,
   "metadata": {},
   "outputs": [
    {
     "name": "stdout",
     "output_type": "stream",
     "text": [
      "12\n"
     ]
    }
   ],
   "source": [
    "import imageio\n",
    "png_files = glob.glob(\"./JMA_kakuho_image_score*.png\")\n",
    "png_files.sort()\n",
    "print(len(png_files)) # 288\n",
    "\n",
    "images = []\n",
    "for filename in png_files:\n",
    "    images.append(imageio.imread(filename))\n",
    "    os.system(f\"rm -r {filename}\")\n",
    "output_file = f'JMA_kakuho_image_score-{yday_now}.gif'\n",
    "imageio.mimsave(output_file, images,duration = 1)  # unit is in seconds"
   ]
  },
  {
   "cell_type": "code",
   "execution_count": 30,
   "metadata": {},
   "outputs": [
    {
     "name": "stdout",
     "output_type": "stream",
     "text": [
      "[ 0.      0.2998  0.306  ... 30.61   30.81   31.53  ]\n",
      "[ 0.      0.2998  0.306  ... 30.42   30.52   30.61  ]\n",
      "[ 0.      0.2998  0.306  ... 29.47   29.84   29.97  ]\n",
      "[ 0.      0.2998  0.306  ... 29.19   29.53   29.67  ]\n",
      "[ 0.      0.2998  0.306  ... 26.2    26.34   27.72  ]\n",
      "[ 0.      0.2998  0.306  ... 26.47   27.33   28.73  ]\n",
      "[ 0.      0.2998  0.306  ... 26.4    26.44   27.42  ]\n",
      "[ 0.      0.2998  0.306  ... 25.25   25.36   25.38  ]\n",
      "[ 0.      0.2998  0.306  ... 24.03   24.28   24.6   ]\n",
      "[ 0.      0.2998  0.306  ... 23.31   23.64   24.    ]\n",
      "[ 0.      0.2998  0.306  ... 22.94   23.36   23.78  ]\n",
      "[ 0.      0.2998  0.306  ... 22.6    22.64   22.69  ]\n"
     ]
    }
   ],
   "source": [
    "for i in range(12):\n",
    "    rain_reduced = root['APCP_surface'][i,1500:2500,1000:2000]\n",
    "    rain_reduced.fill_value = 0.0\n",
    "    rain_filled = rain_reduced.filled().astype('float16') * 6 # mm/10 min to mm/h\n",
    "    print(np.unique(rain_filled.flatten()))"
   ]
  },
  {
   "cell_type": "code",
   "execution_count": 32,
   "metadata": {},
   "outputs": [
    {
     "data": {
      "text/plain": [
       "array([0.    , 0.2998, 0.306 , 0.312 , 0.318 , 0.324 , 0.33  , 0.336 ,\n",
       "       0.342 , 0.3481, 0.354 , 0.3599, 0.366 , 0.372 , 0.378 , 0.3843,\n",
       "       0.3901, 0.396 , 0.402 , 0.408 ], dtype=float16)"
      ]
     },
     "execution_count": 32,
     "metadata": {},
     "output_type": "execute_result"
    }
   ],
   "source": [
    "np.unique(rain_filled.flatten())[0:20]"
   ]
  },
  {
   "cell_type": "code",
   "execution_count": 31,
   "metadata": {},
   "outputs": [
    {
     "name": "stdout",
     "output_type": "stream",
     "text": [
      "[ 0.   0.1  0.2  0.3  0.4  0.5  0.6  0.7  0.8  0.9  1.   1.1  1.2  1.3\n",
      "  1.4  1.5  1.6  1.7  1.8  1.9  2.1  2.3  2.6  2.8  2.9  3.1  3.3  3.6\n",
      "  3.8  4.1  4.3  4.6  4.8  4.9  5.2  5.7  5.9  6.2  6.7  6.9  7.2  7.7\n",
      "  7.9  8.2  8.7  8.9  9.2  9.7  9.9 10.5 11.5 11.9 12.5 13.5 14.5 15.5\n",
      " 15.9 16.5 17.5 18.5 19.5 20.5 21.5 22.5 23.5 24.5 25.5]\n"
     ]
    }
   ],
   "source": [
    "print(np.unique(ground_truth.flatten()))"
   ]
  },
  {
   "cell_type": "code",
   "execution_count": 28,
   "metadata": {},
   "outputs": [
    {
     "data": {
      "image/png": "[encoded data removed]",
      "text/plain": [
       "<Figure size 432x288 with 1 Axes>"
      ]
     },
     "metadata": {
      "needs_background": "light"
     },
     "output_type": "display_data"
    }
   ],
   "source": [
    "plt.hist(rain_filled.flatten(),100)\n",
    "plt.yscale('log')\n",
    "plt.show()"
   ]
  },
  {
   "cell_type": "code",
   "execution_count": 27,
   "metadata": {},
   "outputs": [
    {
     "data": {
      "image/png": "[encoded data removed]",
      "text/plain": [
       "<Figure size 432x288 with 1 Axes>"
      ]
     },
     "metadata": {
      "needs_background": "light"
     },
     "output_type": "display_data"
    }
   ],
   "source": [
    "plt.hist(ground_truth.flatten(),100)\n",
    "plt.yscale('log')\n",
    "plt.show()"
   ]
  },
  {
   "cell_type": "code",
   "execution_count": null,
   "metadata": {},
   "outputs": [],
   "source": []
  }
 ],
 "metadata": {
  "kernelspec": {
   "display_name": "Python 3",
   "language": "python",
   "name": "python3"
  },
  "language_info": {
   "codemirror_mode": {
    "name": "ipython",
    "version": 3
   },
   "file_extension": ".py",
   "mimetype": "text/x-python",
   "name": "python",
   "nbconvert_exporter": "python",
   "pygments_lexer": "ipython3",
   "version": "3.7.1"
  }
 },
 "nbformat": 4,
 "nbformat_minor": 2
}
