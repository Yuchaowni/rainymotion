{
 "cells": [
  {
   "cell_type": "markdown",
   "metadata": {},
   "source": [
    "note on 2020.1.10:\n",
    "- build a whole year (2019) jma radar dataset for testing kakuho\n",
    "- cut image to shape(1000,1000), cut bit from float32 to uint8\n",
    "- statistical study of rainy coverage, note that 132396 pixels are masked in 1 M pixels\n",
    "- use 2 thresholds: >0.05;  > 1.0 mm/h and make 2 binary list with length 288*365 = 105120, or monthly list with a length of about 8640\n",
    "- make a recommendation list that which data is suitable for testing, such as rain coverage and duration"
   ]
  },
  {
   "cell_type": "code",
   "execution_count": 1,
   "metadata": {},
   "outputs": [
    {
     "name": "stdout",
     "output_type": "stream",
     "text": [
      "/Users/jiang/github_all/rainymotion/docs/notebooks\n",
      "today: 2020-01-29 00:00:00\n",
      "today: 2020-01-30 00:00:00\n",
      "today: 2020-01-31 00:00:00\n"
     ]
    }
   ],
   "source": [
    "import glob\n",
    "import numpy as np\n",
    "from datetime import datetime,timedelta\n",
    "import calendar\n",
    "from netCDF4 import Dataset\n",
    "import joblib\n",
    "import os\n",
    "print(os.getcwd())\n",
    "\n",
    "#data_folder = \"/Volumes/own4T/jma_radar_401300210\"\n",
    "data_folder = \"/Users/jiang/data/jma_radar\"\n",
    "output_folder = \"/Users/jiang/data/jma_radar\"\n",
    "\n",
    "dt     = datetime(2020,1,29,0,0)  # included\n",
    "dt_end = datetime(2020,1,31,0,5)  # not included\n",
    "time_step = 5 * 60 # seconds\n",
    "\n",
    "# initialize\n",
    "#current_month = dt.month  # when change to new month, store previous month's data\n",
    "#_, days_in_month = calendar.monthrange(dt.year, dt.month)\n",
    "print(f\"today: {dt}\")\n",
    "today = dt.day\n",
    "daily_data = np.zeros(shape = (288,1000,1000), dtype = np.uint8)\n",
    "output_file  = f\"jma_radar_uint8_{dt.strftime('%Y_%m_%d')}.joblib\"\n",
    "output_path = os.path.join(output_folder, output_file)\n",
    "\n",
    "while dt <= dt_end:\n",
    "    # if new day store data and reset counter                     \n",
    "    if dt.day != today:\n",
    "        joblib.dump(daily_data, output_path)\n",
    "        del daily_data            \n",
    "\n",
    "        # reset\n",
    "        print(f\"today: {dt}\")\n",
    "        today = dt.day\n",
    "        daily_data = np.zeros(shape = (288,1000,1000), dtype = np.uint8)\n",
    "        output_file  = f\"jma_radar_uint8_{dt.strftime('%Y_%m_%d')}.joblib\"\n",
    "        output_path = os.path.join(output_folder, output_file)\n",
    "        \n",
    "    # grib2 file to nc file\n",
    "    grib_file = dt.strftime('%Y%m%d_%H%M00.000')\n",
    "    source_folder = os.path.join(data_folder, dt.strftime(\"%Y/%m/%d\"))\n",
    "    source_path = os.path.join(source_folder, grib_file)\n",
    "    nc_file = \"temp1.nc\"\n",
    "    cmd = f\"wgrib2 {source_path} -s | egrep 'surface'|wgrib2 -i {source_path} -netcdf {nc_file}\"\n",
    "    fail = os.system(cmd)\n",
    "    if fail:\n",
    "        print(\"wgrib2 wrong at \",source_path)\n",
    "        dt += timedelta(seconds = time_step)\n",
    "        continue\n",
    "    \n",
    "    # nc file to data\n",
    "    #root = Dataset(nc_file, \"r\")\n",
    "    #rain = root['var0_1_203_surface'][0,:,:] # masked array, shape(3360,3560)\n",
    "    #rain_reduced = rain[1500:2500,1000:2000].copy()\n",
    "    rain_reduced = Dataset(nc_file, \"r\")['var0_1_203_surface'][0,1500:2500,1000:2000]\n",
    "    rain_reduced.fill_value = 0.0                    \n",
    "    #rain_filled = rain_reduced.filled() \n",
    "    cnt = int(dt.hour*12 + (dt.minute)/5)                   \n",
    "    daily_data[cnt] = (rain_reduced.filled() * 10).astype('uint8')                     \n",
    "    \n",
    "    # delete nc                     \n",
    "    os.system(f\"rm -r {nc_file}\")                    \n",
    "    dt += timedelta(seconds = time_step)"
   ]
  },
  {
   "cell_type": "code",
   "execution_count": null,
   "metadata": {},
   "outputs": [],
   "source": [
    "dt"
   ]
  },
  {
   "cell_type": "code",
   "execution_count": 5,
   "metadata": {},
   "outputs": [],
   "source": [
    "# for download kakuho data or jma radar data\n",
    "# source and goal folder should exist\n",
    "from datetime import datetime,timedelta\n",
    "import os\n",
    "import urllib\n",
    "\n",
    "# jma radar\n",
    "#base_URL  = \"http://stock1.wni.co.jp/stock_2020/401300210/0000300100200012/\"\n",
    "base_URL  = \"http://stock1.wni.co.jp/stock/401300210/0000300100200012\"\n",
    "base_goal = \"/Users/jiang/data/jma_radar\"\n",
    "\n",
    "dt =     datetime(2020,1,28,1,25)  # not included\n",
    "dt_end = datetime(2020,1,29,0,15)  # included\n",
    "time_step = 5 * 60 # seconds\n",
    "while dt < dt_end:\n",
    "    dt += timedelta(seconds = time_step)\n",
    "    file_string = dt.strftime('%Y%m%d_%H%M00.000')\n",
    "    source_folder = os.path.join(base_URL, dt.strftime(\"%Y/%m/%d\"))\n",
    "    goal_folder = os.path.join(base_goal, dt.strftime(\"%Y/%m/%d\"))\n",
    "    # from pathlib import Path\n",
    "    # Path(\"/my/directory\").mkdir(parents=True, exist_ok=True)\n",
    "    if not os.path.exists(goal_folder):\n",
    "        os.makedirs(goal_folder)\n",
    "\n",
    "    source_path = os.path.join(source_folder, file_string)\n",
    "    goal_path = os.path.join(goal_folder, file_string)\n",
    "    try: \n",
    "        urllib.request.urlretrieve(source_path, goal_path)\n",
    "    except: \n",
    "        print(f\"not exist:{source_path}\")\n",
    "        continue\n"
   ]
  },
  {
   "cell_type": "code",
   "execution_count": null,
   "metadata": {},
   "outputs": [],
   "source": []
  }
 ],
 "metadata": {
  "kernelspec": {
   "display_name": "Python [conda env:rainymotion] *",
   "language": "python",
   "name": "conda-env-rainymotion-py"
  },
  "language_info": {
   "codemirror_mode": {
    "name": "ipython",
    "version": 3
   },
   "file_extension": ".py",
   "mimetype": "text/x-python",
   "name": "python",
   "nbconvert_exporter": "python",
   "pygments_lexer": "ipython3",
   "version": "3.8.0"
  }
 },
 "nbformat": 4,
 "nbformat_minor": 2
}
