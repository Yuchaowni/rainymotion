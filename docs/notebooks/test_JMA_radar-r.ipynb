{
 "cells": [
  {
   "cell_type": "markdown",
   "metadata": {},
   "source": [
    "notes on 2020.1.7:\n",
    "- use linear rain rate instead of dBZ\n",
    "- add T0 data, which is supposed to be 100% accurate for debugging"
   ]
  },
  {
   "cell_type": "code",
   "execution_count": 1,
   "metadata": {},
   "outputs": [
    {
     "name": "stdout",
     "output_type": "stream",
     "text": [
      "/Users/jiang/github_all/rainymotion/docs/notebooks\n"
     ]
    }
   ],
   "source": [
    "import glob\n",
    "import numpy as np\n",
    "import matplotlib.pyplot as plt\n",
    "%matplotlib inline\n",
    "import os\n",
    "print(os.getcwd())\n",
    "\n",
    "data_folder = \"/Users/jiang/data/radar20190101\""
   ]
  },
  {
   "cell_type": "markdown",
   "metadata": {},
   "source": [
    "## test rainymotion sparse mode, dense mode and persistence"
   ]
  },
  {
   "cell_type": "code",
   "execution_count": 2,
   "metadata": {},
   "outputs": [],
   "source": [
    "from netCDF4 import Dataset\n",
    "from datetime import datetime,timedelta\n",
    "from rainymotion import models, metrics, utils\n",
    "from collections import OrderedDict\n",
    "import numpy as np\n",
    "import h5py\n",
    "import matplotlib.pyplot as plt\n",
    "import wradlib.ipol as ipol\n",
    "%matplotlib inline\n",
    "from netCDF4 import Dataset"
   ]
  },
  {
   "cell_type": "code",
   "execution_count": 3,
   "metadata": {},
   "outputs": [],
   "source": [
    "nc_files = glob.glob(os.path.join(data_folder,\"*.nc\"))  # 288 = 12*24\n",
    "nc_files.sort()"
   ]
  },
  {
   "cell_type": "code",
   "execution_count": 4,
   "metadata": {},
   "outputs": [],
   "source": [
    "all_data = [] # 288 arrays with shape (1000,1000)\n",
    "for nc_file in nc_files:\n",
    "    root = Dataset(nc_file, \"r\")\n",
    "    rain = root['var0_1_203_surface'][0,:,:] # masked array, shape(3360,3560)\n",
    "    rain_reduced = rain[1500:2500,1000:2000].copy()\n",
    "    rain_reduced.fill_value = 0.0\n",
    "    rain_filled = rain_reduced.filled()\n",
    "    all_data.append(rain_filled) "
   ]
  },
  {
   "cell_type": "markdown",
   "metadata": {},
   "source": [
    "### text single prediction in 5,10,15..60 minutes "
   ]
  },
  {
   "cell_type": "code",
   "execution_count": 6,
   "metadata": {},
   "outputs": [
    {
     "name": "stdout",
     "output_type": "stream",
     "text": [
      "now = 2019.1.1-00:05\n"
     ]
    }
   ],
   "source": [
    "now = 1\n",
    "threshold = 1  # mm/h\n",
    "threshold_5m = threshold / 12\n",
    "if True: \n",
    "    hh = str(now * 5 // 60).zfill(2) \n",
    "    mm = str(now * 5  % 60).zfill(2)\n",
    "    print(f\"now = 2019.1.1-{hh}:{mm}\")\n",
    "    \n",
    "    inputs = np.array([all_data[now-1],all_data[now]])\n",
    "    \n",
    "    # SparseSD mode\n",
    "    model = models.SparseSD()\n",
    "    model.input_data = inputs\n",
    "    model.lead_steps = 13\n",
    "    nowcast = model.run()  # shape (12, 900, 900)\n",
    "    nowcast = nowcast/12  # convert mm/5min to mm/h\n",
    "    \n",
    "    sparse_13_th = []\n",
    "    sparse_13_re = []\n",
    "    sparse_13_pr = []\n",
    "    for i in range (13):\n",
    "        hits, misses, falsealarms, correctnegatives = metrics.prep_clf(all_data[now + i],nowcast[i], threshold = threshold_5m)\n",
    "        sparse_13_th.append( hits / (hits + misses + falsealarms))\n",
    "        sparse_13_re.append( hits / (hits + misses))\n",
    "        sparse_13_pr.append( hits / (hits + falsealarms))\n",
    "    \n",
    "    # Dense mode\n",
    "    model = models.Dense()\n",
    "    model.input_data = inputs\n",
    "    model.lead_steps = 13\n",
    "    nowcast = model.run()  # shape (12, 900, 900)\n",
    "    dense_13_th = []  # threat score\n",
    "    dense_13_re = []  # recall\n",
    "    dense_13_pr = []  # precision\n",
    "    for i in range (13):\n",
    "        hits, misses, falsealarms, correctnegatives = metrics.prep_clf(all_data[now + i],nowcast[i], threshold = threshold_5m)\n",
    "        dense_13_th.append( hits / (hits + misses + falsealarms))\n",
    "        dense_13_re.append( hits / (hits + misses))\n",
    "        dense_13_pr.append( hits / (hits + falsealarms))\n",
    "        #dense_12.append(metrics.CSI(all_data[now+1+i],nowcast[i], threshold = 1))\n",
    "\n",
    "    # persistance    \n",
    "    persist_13_th = []\n",
    "    persist_13_re = []\n",
    "    persist_13_pr = []\n",
    "    for i in range (13):\n",
    "        hits, misses, falsealarms, correctnegatives = metrics.prep_clf(all_data[now+i],all_data[now], threshold = threshold_5m)\n",
    "        persist_13_th.append( hits / (hits + misses + falsealarms))\n",
    "        persist_13_re.append( hits / (hits + misses))\n",
    "        persist_13_pr.append( hits / (hits + falsealarms))\n",
    "\n",
    "    plt.figure(dpi = 100)\n",
    "    lead_time = list(range(0,65,5))\n",
    "    plt.plot(lead_time, dense_13_th, '-*', label = \"dense\")\n",
    "    plt.plot(lead_time, sparse_13_th, '-s',label = \"sparse\")\n",
    "    plt.plot(lead_time, persist_13_th, '-o',label = \"persistence\")\n",
    "    plt.legend()\n",
    "    plt.ylim([0,1])\n",
    "    plt.ylabel(\"threat score\")\n",
    "    plt.xlabel(\"minutes from now\")\n",
    "    plt.title(f\"now = 2019.1.1-{hh}:{mm},rainymotion+opencv,threshold = 1 mm/h\")\n",
    "    plt.grid()\n",
    "    plt.savefig(\"JMA_rainymotion_th\" + str(now).zfill(3) + \".png\",format = \"png\")\n",
    "    plt.close()"
   ]
  },
  {
   "cell_type": "code",
   "execution_count": null,
   "metadata": {},
   "outputs": [],
   "source": []
  },
  {
   "cell_type": "markdown",
   "metadata": {},
   "source": [
    "### gif animation to display threat/recall/false alarm rate changes over in 5,10,15..60 minutes for 24 hours\n",
    "- compare data using dBz or linear rain rate"
   ]
  },
  {
   "cell_type": "code",
   "execution_count": 20,
   "metadata": {},
   "outputs": [],
   "source": [
    "from rainymotion.models import _advection_constant_vector, _calculate_of, _interpolator"
   ]
  },
  {
   "cell_type": "code",
   "execution_count": 21,
   "metadata": {},
   "outputs": [],
   "source": [
    "class Dense_r:\n",
    "    def __init__(self):\n",
    "        self.input_data = None\n",
    "        self.lead_steps = 12\n",
    "        self.of_method = \"DIS\"\n",
    "        self.direction = \"backward\"\n",
    "        self.interpolation = \"idw\"\n",
    "    def run(self):\n",
    "        # scale input data to uint8 [0-255] with self.scaler\n",
    "        c1 = self.input_data.min()\n",
    "        c2 = self.input_data.max()\n",
    "        scaled_data = ((self.input_data - c1) / (c2 - c1) * 255).astype(np.uint8)\n",
    "\n",
    "        # calculate optical flow\n",
    "        of = _calculate_of(scaled_data, method=self.of_method,direction=self.direction)\n",
    "\n",
    "        # advect pixels accordingly\n",
    "        coord_source, coord_targets = _advection_constant_vector(of, lead_steps=self.lead_steps)\n",
    "\n",
    "        # nowcasts placeholder\n",
    "        nowcasts = []\n",
    "\n",
    "        # interpolation\n",
    "        for lead_step in range(self.lead_steps):\n",
    "            nowcasts.append(_interpolator(self.input_data[-1], coord_source,\n",
    "                                          coord_targets[lead_step],\n",
    "                                          method=self.interpolation))\n",
    "\n",
    "        # reshaping\n",
    "        nowcasts = np.moveaxis(np.dstack(nowcasts), -1, 0)\n",
    "\n",
    "        return nowcasts"
   ]
  },
  {
   "cell_type": "code",
   "execution_count": 22,
   "metadata": {},
   "outputs": [
    {
     "name": "stdout",
     "output_type": "stream",
     "text": [
      "now = 2019.1.1-00:05\n",
      "now = 2019.1.1-01:05\n",
      "now = 2019.1.1-02:05\n",
      "now = 2019.1.1-03:05\n",
      "now = 2019.1.1-04:05\n",
      "now = 2019.1.1-05:05\n",
      "now = 2019.1.1-06:05\n",
      "now = 2019.1.1-07:05\n",
      "now = 2019.1.1-08:05\n",
      "now = 2019.1.1-09:05\n",
      "now = 2019.1.1-10:05\n",
      "now = 2019.1.1-11:05\n",
      "now = 2019.1.1-12:05\n",
      "now = 2019.1.1-13:05\n",
      "now = 2019.1.1-14:05\n",
      "now = 2019.1.1-15:05\n",
      "now = 2019.1.1-16:05\n",
      "now = 2019.1.1-17:05\n",
      "now = 2019.1.1-18:05\n",
      "now = 2019.1.1-19:05\n",
      "now = 2019.1.1-20:05\n",
      "now = 2019.1.1-21:05\n",
      "now = 2019.1.1-22:05\n",
      "CPU times: user 24min 1s, sys: 19.9 s, total: 24min 21s\n",
      "Wall time: 4min 6s\n"
     ]
    }
   ],
   "source": [
    "%%time\n",
    "#now = 100\n",
    "for now in range(1,270,12):  # every hour\n",
    "    hh = str(now * 5 // 60).zfill(2) \n",
    "    mm = str(now * 5  % 60).zfill(2)\n",
    "    print(f\"now = 2019.1.1-{hh}:{mm}\")\n",
    "    \n",
    "    inputs = np.array([all_data[now-1],all_data[now]])\n",
    "    \n",
    "    \n",
    "    # Dense mode\n",
    "    model = models.Dense()\n",
    "    model.input_data = inputs\n",
    "    nowcast = model.run()  # shape (12, 900, 900)\n",
    "    dense_12_th = []  # threat score\n",
    "    dense_12_re = []  # recall\n",
    "    dense_12_pr = []  # precision\n",
    "    for i in range (12):\n",
    "        hits, misses, falsealarms, correctnegatives = metrics.prep_clf(all_data[now+1+i],nowcast[i], threshold = 1)\n",
    "        dense_12_th.append( hits / (hits + misses + falsealarms))\n",
    "        dense_12_re.append( hits / (hits + misses))\n",
    "        dense_12_pr.append( hits / (hits + falsealarms))\n",
    "        #dense_12.append(metrics.CSI(all_data[now+1+i],nowcast[i], threshold = 1))\n",
    "\n",
    "    # using original linear data    \n",
    "    model = Dense_r()\n",
    "    model.input_data = inputs\n",
    "    nowcast = model.run()  # shape (12, 900, 900)\n",
    "    dense_12_th2 = []  # threat score\n",
    "    dense_12_re2 = []  # recall\n",
    "    dense_12_pr2 = []  # precision\n",
    "    for i in range (12):\n",
    "        hits, misses, falsealarms, correctnegatives = metrics.prep_clf(all_data[now+1+i],nowcast[i], threshold = 1)\n",
    "        dense_12_th2.append( hits / (hits + misses + falsealarms))\n",
    "        dense_12_re2.append( hits / (hits + misses))\n",
    "        dense_12_pr2.append( hits / (hits + falsealarms))    \n",
    "        \n",
    "    plt.figure(dpi = 100)\n",
    "    plt.plot(list(range(5,65,5)), dense_12_th, '-*', label = \"dense\")\n",
    "    plt.plot(list(range(5,65,5)), dense_12_th2, '-s',label = \"dense2\")\n",
    "    #plt.plot(list(range(5,65,5)), persist_12_th, '-o',label = \"persistence\")\n",
    "    plt.legend()\n",
    "    plt.ylim([0,1])\n",
    "    plt.ylabel(\"threat score\")\n",
    "    plt.xlabel(\"minutes from now\")\n",
    "    plt.title(f\"now = 2019.1.1-{hh}:{mm},rainymotion+opencv,threshold = 1 mm/h\")\n",
    "    plt.grid()\n",
    "    plt.savefig(\"JMA_rainymotion_th\" + str(now).zfill(3) + \".png\",format = \"png\")\n",
    "    plt.close()\n",
    "    "
   ]
  },
  {
   "cell_type": "code",
   "execution_count": 15,
   "metadata": {},
   "outputs": [
    {
     "name": "stdout",
     "output_type": "stream",
     "text": [
      "23\n"
     ]
    }
   ],
   "source": [
    "import imageio\n",
    "png_files = glob.glob(\"./JMA_rainymotion_th*.png\")\n",
    "png_files.sort()\n",
    "print(len(png_files)) # 288\n",
    "\n",
    "images = []\n",
    "for filename in png_files:\n",
    "    images.append(imageio.imread(filename))\n",
    "output_file = 'JMA_rainymotion_threat-%s.gif' % datetime.now().strftime('%Y-%m-%d-%H-%M-%S')\n",
    "imageio.mimsave(output_file, images,duration = 1)  # unit is in seconds"
   ]
  },
  {
   "cell_type": "code",
   "execution_count": 16,
   "metadata": {},
   "outputs": [
    {
     "name": "stdout",
     "output_type": "stream",
     "text": [
      "23\n"
     ]
    }
   ],
   "source": [
    "import imageio\n",
    "png_files = glob.glob(\"./JMA_rainymotion_re*.png\")\n",
    "png_files.sort()\n",
    "print(len(png_files)) # 288\n",
    "\n",
    "images = []\n",
    "for filename in png_files:\n",
    "    images.append(imageio.imread(filename))\n",
    "output_file = 'JMA_rainymotion_recall-%s.gif' % datetime.now().strftime('%Y-%m-%d-%H-%M-%S')\n",
    "imageio.mimsave(output_file, images,duration = 1)  # unit is in seconds"
   ]
  },
  {
   "cell_type": "code",
   "execution_count": 18,
   "metadata": {},
   "outputs": [
    {
     "name": "stdout",
     "output_type": "stream",
     "text": [
      "23\n"
     ]
    }
   ],
   "source": [
    "import imageio\n",
    "png_files = glob.glob(\"./JMA_rainymotion_pr*.png\")\n",
    "png_files.sort()\n",
    "print(len(png_files)) # 288\n",
    "\n",
    "images = []\n",
    "for filename in png_files:\n",
    "    images.append(imageio.imread(filename))\n",
    "output_file = 'JMA_rainymotion_precision-%s.gif' % datetime.now().strftime('%Y-%m-%d-%H-%M-%S')\n",
    "imageio.mimsave(output_file, images,duration = 1)  # unit is in seconds"
   ]
  },
  {
   "cell_type": "markdown",
   "metadata": {},
   "source": [
    "##  visualize the differece in gif\n",
    "- RYScaler"
   ]
  },
  {
   "cell_type": "code",
   "execution_count": 21,
   "metadata": {},
   "outputs": [],
   "source": [
    "from rainymotion import utils\n",
    "data_scaled, c1, c2 = d(np.array(all_data))  # shape(288,1000,1000)\n",
    "nowcast_scaled, c3,c4 = utils.RYScaler(np.array(nowcast))\n",
    "data_rescaled= utils.inv_RYScaler(data_scaled,c1,c2)  # shape(288,1000,1000)"
   ]
  },
  {
   "cell_type": "code",
   "execution_count": 47,
   "metadata": {},
   "outputs": [
    {
     "data": {
      "text/plain": [
       "27817"
      ]
     },
     "execution_count": 47,
     "metadata": {},
     "output_type": "execute_result"
    }
   ],
   "source": [
    "np.sum(image1>1)"
   ]
  },
  {
   "cell_type": "code",
   "execution_count": 48,
   "metadata": {},
   "outputs": [
    {
     "data": {
      "image/png": "[encoded data removed]",
      "text/plain": [
       "<Figure size 900x600 with 1 Axes>"
      ]
     },
     "metadata": {
      "needs_background": "light"
     },
     "output_type": "display_data"
    }
   ],
   "source": [
    "plt.figure(dpi = 150)\n",
    "image1 = data_scaled[now+1+i]\n",
    "image2 = nowcast_scaled[i]\n",
    "plt.imshow(image1,cmap = 'gray_r')\n",
    "plt.imshow(image2,cmap = 'gray_r',alpha = 0.5)\n",
    "plt.title(f\"now = 2019.1.1-{hh}:{mm},+{str(i*5+5).zfill(2)}min,Truth(black),forecast(shadow)\")\n",
    "plt.text(500, 50, f\"threat = {dense_12_th[i]:.2f}\")\n",
    "plt.text(500, 100, f\"recall = {dense_12_re[i]:.2f}\")\n",
    "plt.text(500, 150, f\"precision = {dense_12_pr[i]:.2f}\")\n",
    "plt.text(500, 200, f\"rainy points = {np.sum(image1>1)/1000:.1f} k\")\n",
    "plt.show()"
   ]
  },
  {
   "cell_type": "code",
   "execution_count": 49,
   "metadata": {},
   "outputs": [],
   "source": [
    "for i in range(12):\n",
    "    plt.figure(dpi = 150)\n",
    "    image1 = data_scaled[now+1+i]\n",
    "    image2 = nowcast_scaled[i]\n",
    "    plt.imshow(image1,cmap = 'gray_r')\n",
    "    plt.imshow(image2,cmap = 'gray_r',alpha = 0.5)\n",
    "    plt.title(f\"now = 2019.1.1-{hh}:{mm},+{str(i*5+5).zfill(2)}min,Truth(black),forecast(shadow)\")\n",
    "    plt.text(500, 50, f\"threat = {dense_12_th[i]:.2f}\")\n",
    "    plt.text(500, 100, f\"recall = {dense_12_re[i]:.2f}\")\n",
    "    plt.text(500, 150, f\"precision = {dense_12_pr[i]:.2f}\")\n",
    "    plt.text(500, 200, f\"rainy points = {np.sum(image1>1)/1000:.1f} k\")\n",
    "    plt.grid()\n",
    "    plt.savefig(\"JMA_rainymotion_image_score\" + str(i).zfill(2) + \".png\",format = \"png\")\n",
    "    plt.close()"
   ]
  },
  {
   "cell_type": "code",
   "execution_count": 50,
   "metadata": {},
   "outputs": [
    {
     "name": "stdout",
     "output_type": "stream",
     "text": [
      "12\n"
     ]
    }
   ],
   "source": [
    "import imageio\n",
    "png_files = glob.glob(\"./JMA_rainymotion_image_score*.png\")\n",
    "png_files.sort()\n",
    "print(len(png_files)) # 288\n",
    "\n",
    "images = []\n",
    "for filename in png_files:\n",
    "    images.append(imageio.imread(filename))\n",
    "output_file = 'JMA_rainymotion_image_score-%s.gif' % datetime.now().strftime('%Y-%m-%d-%H-%M-%S')\n",
    "imageio.mimsave(output_file, images,duration = 1)  # unit is in seconds"
   ]
  },
  {
   "cell_type": "markdown",
   "metadata": {},
   "source": [
    "## check data distribution"
   ]
  },
  {
   "cell_type": "code",
   "execution_count": 22,
   "metadata": {
    "scrolled": true
   },
   "outputs": [
    {
     "data": {
      "image/png": "[encoded data removed]",
      "text/plain": [
       "<Figure size 432x288 with 1 Axes>"
      ]
     },
     "metadata": {
      "needs_background": "light"
     },
     "output_type": "display_data"
    }
   ],
   "source": [
    "plt.hist(data_scaled[now+1+i].ravel(),256)\n",
    "plt.yscale('log')"
   ]
  },
  {
   "cell_type": "code",
   "execution_count": 26,
   "metadata": {},
   "outputs": [
    {
     "data": {
      "image/png": "[encoded data removed]",
      "text/plain": [
       "<Figure size 432x288 with 1 Axes>"
      ]
     },
     "metadata": {
      "needs_background": "light"
     },
     "output_type": "display_data"
    }
   ],
   "source": [
    "plt.hist(all_data[now+1+i].ravel(),256)\n",
    "plt.yscale('log')"
   ]
  },
  {
   "cell_type": "code",
   "execution_count": 24,
   "metadata": {},
   "outputs": [
    {
     "data": {
      "image/png": "[encoded data removed]",
      "text/plain": [
       "<Figure size 432x288 with 1 Axes>"
      ]
     },
     "metadata": {
      "needs_background": "light"
     },
     "output_type": "display_data"
    }
   ],
   "source": [
    "plt.hist(data_rescaled[now+1+i].ravel(),256)\n",
    "plt.yscale('log')"
   ]
  },
  {
   "cell_type": "code",
   "execution_count": 28,
   "metadata": {},
   "outputs": [
    {
     "data": {
      "text/plain": [
       "(0.053029694, 0.05174085478878213)"
      ]
     },
     "execution_count": 28,
     "metadata": {},
     "output_type": "execute_result"
    }
   ],
   "source": [
    "np.mean(all_data[now+1+i]), np.mean(data_rescaled[now+1+i])"
   ]
  },
  {
   "cell_type": "code",
   "execution_count": 54,
   "metadata": {},
   "outputs": [
    {
     "data": {
      "text/plain": [
       "(972183, 972183)"
      ]
     },
     "execution_count": 54,
     "metadata": {},
     "output_type": "execute_result"
    }
   ],
   "source": [
    "np.sum(all_data[now+1+i]==0),  np.sum(data_rescaled[now+1+i]==0)"
   ]
  },
  {
   "cell_type": "code",
   "execution_count": 57,
   "metadata": {},
   "outputs": [
    {
     "data": {
      "text/plain": [
       "array([ 0.  ,  0.35,  0.45,  0.55,  0.65,  0.75,  0.85,  0.95,  1.05,\n",
       "        1.15,  1.25,  1.35,  1.45,  1.55,  1.65,  1.75,  1.85,  1.95,\n",
       "        2.13,  2.38,  2.63,  2.88,  3.13,  3.38,  3.63,  3.88,  4.13,\n",
       "        4.38,  4.63,  4.88,  5.25,  5.75,  6.25,  6.75,  7.25,  7.75,\n",
       "        8.25,  8.75,  9.25,  9.75, 10.5 , 11.5 , 12.5 , 13.5 , 14.5 ,\n",
       "       15.5 , 16.5 , 17.5 , 18.5 , 19.5 , 20.5 , 21.5 , 22.5 , 23.5 ,\n",
       "       24.5 , 25.5 , 26.5 , 27.5 , 28.5 , 29.5 , 33.5 , 34.5 , 35.5 ,\n",
       "       36.5 , 37.5 , 40.5 , 49.5 , 54.5 , 59.5 , 74.5 ], dtype=float32)"
      ]
     },
     "execution_count": 57,
     "metadata": {},
     "output_type": "execute_result"
    }
   ],
   "source": [
    "np.unique(all_data[now+1+i] )"
   ]
  },
  {
   "cell_type": "code",
   "execution_count": 29,
   "metadata": {},
   "outputs": [
    {
     "data": {
      "text/plain": [
       "(0.0, 70.987785)"
      ]
     },
     "execution_count": 29,
     "metadata": {},
     "output_type": "execute_result"
    }
   ],
   "source": [
    "c1,c2"
   ]
  }
 ],
 "metadata": {
  "kernelspec": {
   "display_name": "Python [conda env:rainymotion] *",
   "language": "python",
   "name": "conda-env-rainymotion-py"
  },
  "language_info": {
   "codemirror_mode": {
    "name": "ipython",
    "version": 3
   },
   "file_extension": ".py",
   "mimetype": "text/x-python",
   "name": "python",
   "nbconvert_exporter": "python",
   "pygments_lexer": "ipython3",
   "version": "3.8.0"
  }
 },
 "nbformat": 4,
 "nbformat_minor": 2
}
