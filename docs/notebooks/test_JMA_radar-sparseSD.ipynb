{
 "cells": [
  {
   "cell_type": "markdown",
   "metadata": {},
   "source": [
    "notes on 2020.1.8:\n",
    "- use linear rain rate instead of dBZ\n",
    "- add T0 data, which is supposed to be 100% accurate for debugging. The current problem is  it is 0 for sparseSD"
   ]
  },
  {
   "cell_type": "code",
   "execution_count": 1,
   "metadata": {},
   "outputs": [
    {
     "name": "stdout",
     "output_type": "stream",
     "text": [
      "/Users/jiang/github_all/rainymotion/docs/notebooks\n"
     ]
    }
   ],
   "source": [
    "import glob\n",
    "import numpy as np\n",
    "import matplotlib.pyplot as plt\n",
    "%matplotlib inline\n",
    "\n",
    "import os\n",
    "print(os.getcwd())\n",
    "\n",
    "data_folder = \"/Users/jiang/data/radar20190101\""
   ]
  },
  {
   "cell_type": "code",
   "execution_count": 2,
   "metadata": {},
   "outputs": [],
   "source": [
    "from netCDF4 import Dataset\n",
    "from datetime import datetime,timedelta\n",
    "from rainymotion import models, metrics, utils\n",
    "from collections import OrderedDict\n",
    "import h5py\n",
    "import wradlib.ipol as ipol\n"
   ]
  },
  {
   "cell_type": "code",
   "execution_count": 3,
   "metadata": {},
   "outputs": [],
   "source": [
    "nc_files = glob.glob(os.path.join(data_folder,\"*.nc\"))  # 288 = 12*24\n",
    "nc_files.sort()"
   ]
  },
  {
   "cell_type": "code",
   "execution_count": 4,
   "metadata": {},
   "outputs": [],
   "source": [
    "all_data = [] # 288 arrays with shape (1000,1000)\n",
    "for nc_file in nc_files:\n",
    "    root = Dataset(nc_file, \"r\")\n",
    "    rain = root['var0_1_203_surface'][0,:,:] # masked array, shape(3360,3560)\n",
    "    rain_reduced = rain[1500:2500,1000:2000].copy()\n",
    "    rain_reduced.fill_value = 0.0\n",
    "    rain_filled = rain_reduced.filled()\n",
    "    all_data.append(rain_filled) "
   ]
  },
  {
   "cell_type": "code",
   "execution_count": 5,
   "metadata": {},
   "outputs": [],
   "source": [
    "import skimage.transform as sktf\n",
    "from rainymotion.models import _sparse_linear,_sparse_sd\n",
    "transformations = {'euclidean': sktf.EuclideanTransform(),\n",
    "                   'similarity': sktf.SimilarityTransform(),\n",
    "                   'affine': sktf.AffineTransform(),\n",
    "                   'projective': sktf.ProjectiveTransform()}\n",
    "\n",
    "now = 1\n",
    "inputs = np.array([all_data[now-1],all_data[now]])\n",
    "c1 = inputs.min()\n",
    "c2 = inputs.max()\n",
    "data_scaled = ((inputs - c1) / (c2 - c1) * 255).astype(np.uint8)"
   ]
  },
  {
   "cell_type": "code",
   "execution_count": 8,
   "metadata": {},
   "outputs": [
    {
     "data": {
      "image/png": "[encoded data removed]",
      "text/plain": [
       "<Figure size 432x288 with 1 Axes>"
      ]
     },
     "metadata": {
      "needs_background": "light"
     },
     "output_type": "display_data"
    }
   ],
   "source": [
    "plt.hist(data_scaled.astype('uint8').ravel(),256)\n",
    "plt.yscale('log')\n",
    "plt.show()"
   ]
  },
  {
   "cell_type": "code",
   "execution_count": 11,
   "metadata": {},
   "outputs": [],
   "source": [
    "import cv2\n",
    "trf = transformations['affine']\n",
    "of_params = {'st_pars': dict(maxCorners=200, qualityLevel=0.2,\n",
    "                                          minDistance=7, blockSize=21),\n",
    "                          'lk_pars': dict(winSize=(20, 20), maxLevel=2,\n",
    "                                          criteria=(cv2.TERM_CRITERIA_EPS | cv2.TERM_CRITERIA_COUNT, 10, 0))}\n",
    "lead_steps = 13\n",
    "pts_source, pts_target_container = _sparse_sd(data_instance = data_scaled,\n",
    "               of_params = of_params, lead_steps = lead_steps) # (128,2),12 elements of (128,2) \n"
   ]
  },
  {
   "cell_type": "code",
   "execution_count": 13,
   "metadata": {},
   "outputs": [],
   "source": [
    "last_frame = data_scaled[-1]\n",
    "nowcst_frames = []\n",
    "\n",
    "for lead_step, pts_target in enumerate(pts_target_container):\n",
    "\n",
    "    # estimate transformation matrix\n",
    "    # based on source and traget points\n",
    "    trf.estimate(pts_source, pts_target)\n",
    "\n",
    "    # make a nowcast\n",
    "    nowcst_frame = sktf.warp(last_frame/255, trf.inverse)\n",
    "    # transformations dealing with strange behaviour\n",
    "    nowcst_frame = (nowcst_frame*255).astype('uint8')\n",
    "    # add to the container\n",
    "    nowcst_frames.append(nowcst_frame)\n",
    "\n",
    "nowcst_frames = np.stack(nowcst_frames, axis=0)\n",
    "\n",
    "nowcst_frames = (nowcst_frames / 255)*(c2 - c1) + c1"
   ]
  },
  {
   "cell_type": "markdown",
   "metadata": {},
   "source": [
    "### text single prediction in 5,10,15..60 minutes "
   ]
  },
  {
   "cell_type": "code",
   "execution_count": 5,
   "metadata": {},
   "outputs": [
    {
     "name": "stdout",
     "output_type": "stream",
     "text": [
      "now = 2019.1.1-00:05\n",
      "I changed !\n"
     ]
    },
    {
     "name": "stderr",
     "output_type": "stream",
     "text": [
      "/Users/jiang/anaconda3/envs/rainymotion/lib/python3.8/site-packages/wradlib/ipol.py:368: RuntimeWarning: divide by zero encountered in true_divide\n",
      "  weights = 1.0 / self.dists ** self.p\n"
     ]
    }
   ],
   "source": [
    "now = 1\n",
    "threshold = 1  # mm/h\n",
    "#threshold_5m = threshold / 12\n",
    "if True: \n",
    "    hh = str(now * 5 // 60).zfill(2) \n",
    "    mm = str(now * 5  % 60).zfill(2)\n",
    "    print(f\"now = 2019.1.1-{hh}:{mm}\")\n",
    "    \n",
    "    inputs = np.array([all_data[now-1],all_data[now]])\n",
    "    \n",
    "    # SparseSD mode\n",
    "    model = models.SparseSD()\n",
    "    model.input_data = inputs\n",
    "    model.lead_steps = 13\n",
    "    nowcast = model.run()  # shape (12, 900, 900)\n",
    "    sparsecast = nowcast.copy()\n",
    "    sparse_13_th = []\n",
    "    sparse_13_re = []\n",
    "    sparse_13_pr = []\n",
    "    for i in range (13):\n",
    "        hits, misses, falsealarms, correctnegatives = metrics.prep_clf(all_data[now + i],nowcast[i], threshold = threshold)\n",
    "        sparse_13_th.append( hits / (hits + misses + falsealarms))\n",
    "        sparse_13_re.append( hits / (hits + misses))\n",
    "        sparse_13_pr.append( hits / (hits + falsealarms))\n",
    "    \n",
    "    # Dense mode\n",
    "    model = models.Dense()\n",
    "    model.input_data = inputs\n",
    "    model.lead_steps = 13\n",
    "    nowcast = model.run()  # shape (12, 900, 900)\n",
    "    dense_13_th = []  # threat score\n",
    "    dense_13_re = []  # recall\n",
    "    dense_13_pr = []  # precision\n",
    "    for i in range (13):\n",
    "        hits, misses, falsealarms, correctnegatives = metrics.prep_clf(all_data[now + i],nowcast[i], threshold = threshold)\n",
    "        dense_13_th.append( hits / (hits + misses + falsealarms))\n",
    "        dense_13_re.append( hits / (hits + misses))\n",
    "        dense_13_pr.append( hits / (hits + falsealarms))\n",
    "        #dense_12.append(metrics.CSI(all_data[now+1+i],nowcast[i], threshold = 1))\n",
    "\n",
    "    # persistance    \n",
    "    persist_13_th = []\n",
    "    persist_13_re = []\n",
    "    persist_13_pr = []\n",
    "    for i in range (13):\n",
    "        hits, misses, falsealarms, correctnegatives = metrics.prep_clf(all_data[now+i],all_data[now], threshold = threshold)\n",
    "        persist_13_th.append( hits / (hits + misses + falsealarms))\n",
    "        persist_13_re.append( hits / (hits + misses))\n",
    "        persist_13_pr.append( hits / (hits + falsealarms))\n",
    "\n",
    "    plt.figure(dpi = 100)\n",
    "    lead_time = list(range(0,65,5))\n",
    "    plt.plot(lead_time, dense_13_th, '-*', label = \"dense\")\n",
    "    plt.plot(lead_time, sparse_13_th, '-s',label = \"sparse\")\n",
    "    plt.plot(lead_time, persist_13_th, '-o',label = \"persistence\")\n",
    "    plt.legend()\n",
    "    plt.ylim([0,1])\n",
    "    plt.ylabel(\"threat score\")\n",
    "    plt.xlabel(\"minutes from now\")\n",
    "    plt.title(f\"now = 2019.1.1-{hh}:{mm},rainymotion+opencv,threshold = 1 mm/h\")\n",
    "    plt.grid()\n",
    "    plt.savefig(\"JMA_rainymotion_th\" + str(now).zfill(3) + \".png\",format = \"png\")\n",
    "    plt.close()"
   ]
  },
  {
   "cell_type": "code",
   "execution_count": null,
   "metadata": {},
   "outputs": [],
   "source": []
  },
  {
   "cell_type": "markdown",
   "metadata": {},
   "source": [
    "## check data distribution"
   ]
  },
  {
   "cell_type": "code",
   "execution_count": null,
   "metadata": {},
   "outputs": [],
   "source": [
    "all_data[now+i],nowcast[i]"
   ]
  },
  {
   "cell_type": "code",
   "execution_count": null,
   "metadata": {},
   "outputs": [],
   "source": []
  },
  {
   "cell_type": "code",
   "execution_count": 11,
   "metadata": {},
   "outputs": [
    {
     "data": {
      "text/plain": [
       "(973692, 967034, 0)"
      ]
     },
     "execution_count": 11,
     "metadata": {},
     "output_type": "execute_result"
    }
   ],
   "source": [
    "np.sum(all_data[now+i]==0),  np.sum(nowcast[i]==0), np.sum(sparsecast[i]==0)"
   ]
  },
  {
   "cell_type": "code",
   "execution_count": 12,
   "metadata": {},
   "outputs": [
    {
     "data": {
      "image/png": "[encoded data removed]",
      "text/plain": [
       "<Figure size 432x288 with 1 Axes>"
      ]
     },
     "metadata": {
      "needs_background": "light"
     },
     "output_type": "display_data"
    }
   ],
   "source": [
    "plt.hist(sparsecast[i].ravel(),256)\n",
    "plt.yscale('log')"
   ]
  },
  {
   "cell_type": "code",
   "execution_count": 18,
   "metadata": {
    "scrolled": true
   },
   "outputs": [
    {
     "data": {
      "image/png": "[encoded data removed]",
      "text/plain": [
       "<Figure size 432x288 with 1 Axes>"
      ]
     },
     "metadata": {
      "needs_background": "light"
     },
     "output_type": "display_data"
    }
   ],
   "source": [
    "plt.hist(nowcast[i].astype('uint8').ravel(),256)\n",
    "plt.yscale('log')"
   ]
  },
  {
   "cell_type": "code",
   "execution_count": 19,
   "metadata": {},
   "outputs": [
    {
     "data": {
      "image/png": "[encoded data removed]",
      "text/plain": [
       "<Figure size 432x288 with 1 Axes>"
      ]
     },
     "metadata": {
      "needs_background": "light"
     },
     "output_type": "display_data"
    }
   ],
   "source": [
    "plt.hist(all_data[now+i].astype('uint8').ravel(),256)\n",
    "plt.yscale('log')"
   ]
  },
  {
   "cell_type": "code",
   "execution_count": null,
   "metadata": {},
   "outputs": [],
   "source": []
  },
  {
   "cell_type": "code",
   "execution_count": 13,
   "metadata": {},
   "outputs": [
    {
     "name": "stdout",
     "output_type": "stream",
     "text": [
      "now = 2019.1.1-00:05\n",
      "class SparseSD\n",
      "I am in _sparse_sd\n",
      "I changed !\n"
     ]
    }
   ],
   "source": [
    "if True: \n",
    "    hh = str(now * 5 // 60).zfill(2) \n",
    "    mm = str(now * 5  % 60).zfill(2)\n",
    "    print(f\"now = 2019.1.1-{hh}:{mm}\")\n",
    "    \n",
    "    inputs = np.array([all_data[now-1],all_data[now]])\n",
    "    \n",
    "    # SparseSD mode\n",
    "    model = models.SparseSD()\n",
    "    model.input_data = inputs\n",
    "    model.lead_steps = 13\n",
    "    nowcast = model.run()  # shape (12, 900, 900)\n",
    "    sparsecast = nowcast.copy()\n",
    "    sparse_13_th = []\n",
    "    sparse_13_re = []\n",
    "    sparse_13_pr = []\n",
    "    for i in range (13):\n",
    "        hits, misses, falsealarms, correctnegatives = metrics.prep_clf(all_data[now + i],nowcast[i], threshold = threshold)\n",
    "        sparse_13_th.append( hits / (hits + misses + falsealarms))\n",
    "        sparse_13_re.append( hits / (hits + misses))\n",
    "        sparse_13_pr.append( hits / (hits + falsealarms))"
   ]
  },
  {
   "cell_type": "code",
   "execution_count": 14,
   "metadata": {},
   "outputs": [
    {
     "data": {
      "image/png": "[encoded data removed]",
      "text/plain": [
       "<Figure size 432x288 with 1 Axes>"
      ]
     },
     "metadata": {
      "needs_background": "light"
     },
     "output_type": "display_data"
    }
   ],
   "source": [
    "plt.hist(sparsecast[i].ravel(),256)\n",
    "plt.yscale('log')"
   ]
  },
  {
   "cell_type": "code",
   "execution_count": 7,
   "metadata": {},
   "outputs": [
    {
     "data": {
      "text/plain": [
       "(0.0, 25.5)"
      ]
     },
     "execution_count": 7,
     "metadata": {},
     "output_type": "execute_result"
    }
   ],
   "source": [
    "inputs.min(), inputs.max()"
   ]
  },
  {
   "cell_type": "code",
   "execution_count": 8,
   "metadata": {},
   "outputs": [
    {
     "data": {
      "text/plain": [
       "(array([[[0, 0, 0, ..., 0, 0, 0],\n",
       "         [0, 0, 0, ..., 0, 0, 0],\n",
       "         [0, 0, 0, ..., 0, 0, 0],\n",
       "         ...,\n",
       "         [0, 0, 0, ..., 0, 0, 0],\n",
       "         [0, 0, 0, ..., 0, 0, 0],\n",
       "         [0, 0, 0, ..., 0, 0, 0]],\n",
       " \n",
       "        [[0, 0, 0, ..., 0, 0, 0],\n",
       "         [0, 0, 0, ..., 0, 0, 0],\n",
       "         [0, 0, 0, ..., 0, 0, 0],\n",
       "         ...,\n",
       "         [0, 0, 0, ..., 0, 0, 0],\n",
       "         [0, 0, 0, ..., 0, 0, 0],\n",
       "         [0, 0, 0, ..., 0, 0, 0]]], dtype=uint8), 0.0, 25.5)"
      ]
     },
     "execution_count": 8,
     "metadata": {},
     "output_type": "execute_result"
    }
   ],
   "source": [
    " model.scaler(model.input_data)"
   ]
  },
  {
   "cell_type": "code",
   "execution_count": 11,
   "metadata": {},
   "outputs": [
    {
     "data": {
      "text/plain": [
       "87.09635899560806"
      ]
     },
     "execution_count": 11,
     "metadata": {},
     "output_type": "execute_result"
    }
   ],
   "source": [
    "sparsecast[3].max()"
   ]
  },
  {
   "cell_type": "code",
   "execution_count": null,
   "metadata": {},
   "outputs": [],
   "source": []
  }
 ],
 "metadata": {
  "kernelspec": {
   "display_name": "Python [conda env:rainymotion] *",
   "language": "python",
   "name": "conda-env-rainymotion-py"
  },
  "language_info": {
   "codemirror_mode": {
    "name": "ipython",
    "version": 3
   },
   "file_extension": ".py",
   "mimetype": "text/x-python",
   "name": "python",
   "nbconvert_exporter": "python",
   "pygments_lexer": "ipython3",
   "version": "3.8.0"
  }
 },
 "nbformat": 4,
 "nbformat_minor": 2
}
