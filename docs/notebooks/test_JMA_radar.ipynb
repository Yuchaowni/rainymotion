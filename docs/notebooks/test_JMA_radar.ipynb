{
 "cells": [
  {
   "cell_type": "markdown",
   "metadata": {},
   "source": [
    "notes on 2019.12.23:\n",
    "1. statistics of radar data\n",
    "2. pick rainny cases for testing\n",
    "- Build datasets (2 images for OF, 12 images for AD). Select data that is  rainy region >10% for at least 2 hours.  One year is 365x24 = 8544 hours or 102 k images, prepare at least 10 k pair of samples to test.\n",
    "- Compare 3 approaches, Du original, rainy motion, pysteps. Metrics is CSI and computation speed.  The goal is acheive CSI > 0.5 in 1 hour lead time forecast for a threshold of 1 mm/h"
   ]
  },
  {
   "cell_type": "code",
   "execution_count": 1,
   "metadata": {},
   "outputs": [
    {
     "name": "stdout",
     "output_type": "stream",
     "text": [
      "/Users/jiang/github_all/rainymotion/docs/notebooks\n"
     ]
    }
   ],
   "source": [
    "import glob\n",
    "import numpy as np\n",
    "import matplotlib.pyplot as plt\n",
    "%matplotlib inline\n",
    "import os\n",
    "print(os.getcwd())\n",
    "\n",
    "data_folder = \"/Users/jiang/data/radar20190101\"\n",
    "grib_files = glob.glob(os.path.join(data_folder,\"*.000\"))  # 288 = 12*24\n",
    "grib_files.sort()"
   ]
  },
  {
   "cell_type": "markdown",
   "metadata": {},
   "source": [
    "### read wgrib2 file into nc file"
   ]
  },
  {
   "cell_type": "code",
   "execution_count": 22,
   "metadata": {},
   "outputs": [],
   "source": [
    "if False:  # only do it once\n",
    "    var = \"surface\"\n",
    "    for grib_file in grib_files:\n",
    "        ncfile = grib_file.split(\".\")[0]+\".nc\"\n",
    "        cmd = f\"wgrib2 {grib_file} -s | egrep '({var})'|wgrib2 -i {grib_file} -netcdf {ncfile}\"\n",
    "        fail = os.system(cmd)  # 0 indicate success, others indicate fail\n",
    "        if fail:\n",
    "            print(\"wgrib2 wrong at \",grib_file)"
   ]
  },
  {
   "cell_type": "code",
   "execution_count": 2,
   "metadata": {},
   "outputs": [],
   "source": [
    "from netCDF4 import Dataset\n",
    "nc_file = \"/Users/jiang/data/radar20190101/20190101_000000.nc\"\n",
    "root = Dataset(nc_file, \"r\")"
   ]
  },
  {
   "cell_type": "code",
   "execution_count": 3,
   "metadata": {},
   "outputs": [
    {
     "name": "stdout",
     "output_type": "stream",
     "text": [
      "2019-01-01 00:00 UTC \n"
     ]
    }
   ],
   "source": [
    "from datetime import datetime,timedelta\n",
    "dt = datetime(1970, 1, 1) + timedelta(seconds = root['time'][0].compressed()[0])\n",
    "date_string = dt.strftime('%Y-%m-%d %H:%M UTC ')\n",
    "print(date_string)"
   ]
  },
  {
   "cell_type": "markdown",
   "metadata": {},
   "source": [
    "### check rain coverage in Honshu"
   ]
  },
  {
   "cell_type": "code",
   "execution_count": 6,
   "metadata": {},
   "outputs": [],
   "source": [
    "nc_files = glob.glob(os.path.join(data_folder,\"*.nc\"))  # 288 = 12*24\n",
    "nc_files.sort()"
   ]
  },
  {
   "cell_type": "code",
   "execution_count": 7,
   "metadata": {},
   "outputs": [],
   "source": [
    "honshu_rain = []\n",
    "threshold = 1 #  mm/h\n",
    "for nc_file in nc_files:\n",
    "    root = Dataset(nc_file, \"r\")\n",
    "    rain = root['var0_1_203_surface'][0,:,:] # masked array, shape(3360,3560)\n",
    "    rain_reduced = rain[1500:2500,1000:2000].copy()\n",
    "    rain_reduced.fill_value = 0.0\n",
    "    rain_filled = rain_reduced.filled().astype('float16')\n",
    "    honshu_rain.append(np.sum(rain_filled >= threshold)/1e6)  # total pixels in one image is 1000*1000"
   ]
  },
  {
   "cell_type": "code",
   "execution_count": 8,
   "metadata": {},
   "outputs": [
    {
     "data": {
      "image/png": "[encoded data removed]",
      "text/plain": [
       "<Figure size 432x288 with 1 Axes>"
      ]
     },
     "metadata": {
      "needs_background": "light"
     },
     "output_type": "display_data"
    }
   ],
   "source": [
    "plt.hist(honshu_rain,100)\n",
    "plt.xlabel(\"rain coverage in Honshu\")\n",
    "plt.show()"
   ]
  },
  {
   "cell_type": "markdown",
   "metadata": {},
   "source": [
    "## test rainymotion sparse mode, dense mode and persistence"
   ]
  },
  {
   "cell_type": "code",
   "execution_count": 9,
   "metadata": {},
   "outputs": [],
   "source": [
    "from rainymotion import models, metrics, utils\n",
    "from collections import OrderedDict\n",
    "import numpy as np\n",
    "import h5py\n",
    "import matplotlib.pyplot as plt\n",
    "import wradlib.ipol as ipol\n",
    "%matplotlib inline\n",
    "from netCDF4 import Dataset"
   ]
  },
  {
   "cell_type": "code",
   "execution_count": 10,
   "metadata": {},
   "outputs": [],
   "source": [
    "nc_files = glob.glob(os.path.join(data_folder,\"*.nc\"))  # 288 = 12*24\n",
    "nc_files.sort()"
   ]
  },
  {
   "cell_type": "code",
   "execution_count": 12,
   "metadata": {},
   "outputs": [],
   "source": [
    "all_data = []\n",
    "for nc_file in nc_files:\n",
    "    root = Dataset(nc_file, \"r\")\n",
    "    rain = root['var0_1_203_surface'][0,:,:] # masked array, shape(3360,3560)\n",
    "    rain_reduced = rain[1500:2500,1000:2000].copy()\n",
    "    rain_reduced.fill_value = 0.0\n",
    "    rain_filled = rain_reduced.filled()\n",
    "    all_data.append(rain_filled) "
   ]
  },
  {
   "cell_type": "code",
   "execution_count": 78,
   "metadata": {},
   "outputs": [
    {
     "name": "stdout",
     "output_type": "stream",
     "text": [
      "now = 2019.1.1-00:05\n",
      "now = 2019.1.1-01:05\n",
      "now = 2019.1.1-02:05\n",
      "now = 2019.1.1-03:05\n",
      "now = 2019.1.1-04:05\n",
      "now = 2019.1.1-05:05\n",
      "now = 2019.1.1-06:05\n",
      "now = 2019.1.1-07:05\n",
      "now = 2019.1.1-08:05\n",
      "now = 2019.1.1-09:05\n",
      "now = 2019.1.1-10:05\n",
      "now = 2019.1.1-11:05\n",
      "now = 2019.1.1-12:05\n",
      "now = 2019.1.1-13:05\n",
      "now = 2019.1.1-14:05\n",
      "now = 2019.1.1-15:05\n",
      "now = 2019.1.1-16:05\n",
      "now = 2019.1.1-17:05\n",
      "now = 2019.1.1-18:05\n",
      "now = 2019.1.1-19:05\n",
      "now = 2019.1.1-20:05\n",
      "now = 2019.1.1-21:05\n",
      "now = 2019.1.1-22:05\n",
      "CPU times: user 12min 20s, sys: 12.8 s, total: 12min 33s\n",
      "Wall time: 2min 22s\n"
     ]
    }
   ],
   "source": [
    "%%time\n",
    "#now = 100\n",
    "for now in range(1,270,12):\n",
    "    hh = str(now * 5 // 60).zfill(2) \n",
    "    mm = str(now * 5  % 60).zfill(2)\n",
    "    print(f\"now = 2019.1.1-{hh}:{mm}\")\n",
    "    \n",
    "    inputs = np.array([all_data[now-1],all_data[now]])\n",
    "\n",
    "    model = models.SparseSD()\n",
    "    model.input_data = inputs\n",
    "    nowcast = model.run()  # shape (12, 900, 900)\n",
    "\n",
    "    sparse_12 = []\n",
    "    for i in range (12):\n",
    "        sparse_12.append(metrics.CSI(all_data[now+1+i],nowcast[i], threshold = 1))\n",
    "\n",
    "    model = models.Dense()\n",
    "    model.input_data = inputs\n",
    "    nowcast = model.run()  # shape (12, 900, 900)\n",
    "    dense_12 = []\n",
    "    for i in range (12):\n",
    "        dense_12.append(metrics.CSI(all_data[now+1+i],nowcast[i], threshold = 1))\n",
    "\n",
    "    persist_12 = []\n",
    "    for i in range (12):\n",
    "        persist_12.append(metrics.CSI(all_data[now+1+i],all_data[now], threshold = 1))\n",
    "\n",
    "    plt.figure(dpi = 100)\n",
    "    plt.plot(list(range(5,65,5)), dense_12, '-*', label = \"dense\")\n",
    "    plt.plot(list(range(5,65,5)), sparse_12, '-s',label = \"sparse\")\n",
    "    plt.plot(list(range(5,65,5)), persist_12, '-o',label = \"persistence\")\n",
    "    plt.legend()\n",
    "    plt.ylim([0,1])\n",
    "    plt.ylabel(\"threat score\")\n",
    "    plt.xlabel(\"minutes from now\")\n",
    "    plt.title(f\"now = 2019.1.1-{hh}:{mm},rainymotion+opencv,threshold = 1 mm/h\")\n",
    "    plt.grid()\n",
    "    #plt.show()\n",
    "    plt.savefig(\"JMA_rainymotion\" + str(now).zfill(3) + \".png\",format = \"png\")\n",
    "    plt.close()"
   ]
  },
  {
   "cell_type": "code",
   "execution_count": 42,
   "metadata": {},
   "outputs": [
    {
     "name": "stdout",
     "output_type": "stream",
     "text": [
      "23\n"
     ]
    }
   ],
   "source": [
    "import imageio\n",
    "png_files = glob.glob(\"./JMA_rainymotion*.png\")\n",
    "png_files.sort()\n",
    "print(len(png_files)) # 288\n",
    "\n",
    "images = []\n",
    "for filename in png_files:\n",
    "    images.append(imageio.imread(filename))\n",
    "output_file = 'JMA_rainymotion-%s.gif' % datetime.now().strftime('%Y-%m-%d-%H-%M-%S')\n",
    "imageio.mimsave(output_file, images,duration = 1)  # unit is in seconds"
   ]
  },
  {
   "cell_type": "markdown",
   "metadata": {},
   "source": [
    "##  visualize the differece in gif"
   ]
  },
  {
   "cell_type": "code",
   "execution_count": 61,
   "metadata": {},
   "outputs": [],
   "source": [
    "from rainymotion import utils\n",
    "data_scaled, c1, c2 = utils.RYScaler(np.array(all_data))\n",
    "nowcast_scaled, c3,c4 = utils.RYScaler(np.array(nowcast))"
   ]
  },
  {
   "cell_type": "code",
   "execution_count": 93,
   "metadata": {},
   "outputs": [],
   "source": [
    "for i in range(12):\n",
    "    plt.figure(dpi = 250)\n",
    "    image1 = data_scaled[now+1+i]\n",
    "    image2 = nowcast_scaled[i]\n",
    "    plt.imshow(image1,cmap = 'gray_r')\n",
    "    plt.imshow(image2,cmap = 'gray_r',alpha = 0.5)\n",
    "    plt.title(f\"now = 2019.1.1-{hh}:{mm},+{str(i*5+5).zfill(2)}min,Truth(black),forecast(shadow)\")\n",
    "    plt.grid()\n",
    "    plt.savefig(\"JMA_rainymotion_check\" + str(i).zfill(2) + \".png\",format = \"png\")\n",
    "    plt.close()"
   ]
  },
  {
   "cell_type": "code",
   "execution_count": 94,
   "metadata": {},
   "outputs": [
    {
     "name": "stdout",
     "output_type": "stream",
     "text": [
      "12\n"
     ]
    }
   ],
   "source": [
    "import imageio\n",
    "png_files = glob.glob(\"./JMA_rainymotion_check*.png\")\n",
    "png_files.sort()\n",
    "print(len(png_files)) # 288\n",
    "\n",
    "images = []\n",
    "for filename in png_files:\n",
    "    images.append(imageio.imread(filename))\n",
    "output_file = 'JMA_rainymotion_check-%s.gif' % datetime.now().strftime('%Y-%m-%d-%H-%M-%S')\n",
    "imageio.mimsave(output_file, images,duration = 1)  # unit is in seconds"
   ]
  },
  {
   "cell_type": "markdown",
   "metadata": {},
   "source": [
    "## check data distribution"
   ]
  },
  {
   "cell_type": "code",
   "execution_count": 60,
   "metadata": {
    "scrolled": true
   },
   "outputs": [
    {
     "data": {
      "image/png": "[encoded data removed]",
      "text/plain": [
       "<Figure size 432x288 with 1 Axes>"
      ]
     },
     "metadata": {
      "needs_background": "light"
     },
     "output_type": "display_data"
    }
   ],
   "source": [
    "plt.hist(data_scaled[now+1+i].ravel(),256)\n",
    "plt.yscale('log')"
   ]
  },
  {
   "cell_type": "code",
   "execution_count": null,
   "metadata": {},
   "outputs": [],
   "source": []
  }
 ],
 "metadata": {
  "kernelspec": {
   "display_name": "Python [conda env:rainymotion] *",
   "language": "python",
   "name": "conda-env-rainymotion-py"
  },
  "language_info": {
   "codemirror_mode": {
    "name": "ipython",
    "version": 3
   },
   "file_extension": ".py",
   "mimetype": "text/x-python",
   "name": "python",
   "nbconvert_exporter": "python",
   "pygments_lexer": "ipython3",
   "version": "3.8.0"
  }
 },
 "nbformat": 4,
 "nbformat_minor": 2
}
